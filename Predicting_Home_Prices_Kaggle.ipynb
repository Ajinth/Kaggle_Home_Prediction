{
 "cells": [
  {
   "cell_type": "code",
   "execution_count": 2260,
   "metadata": {
    "collapsed": true
   },
   "outputs": [],
   "source": [
    "'''Importing Numpy and Pandas'''\n",
    "import numpy as np \n",
    "import pandas as pd \n",
    "\n",
    "'''Machine Learning Packages'''\n",
    "from sklearn.cross_validation import cross_val_predict, cross_val_score \n",
    "from sklearn.model_selection import train_test_split, GridSearchCV\n",
    "from sklearn.ensemble import AdaBoostClassifier, AdaBoostRegressor, GradientBoostingClassifier, GradientBoostingRegressor\n",
    "from sklearn.linear_model import LinearRegression,ElasticNetCV, LassoCV, RidgeCV \n",
    "\n",
    "'''Preprocessing Packages'''\n",
    "from sklearn.preprocessing import StandardScaler, Imputer, PolynomialFeatures,Binarizer, OneHotEncoder, LabelEncoder\n",
    "\n",
    "\n",
    "'''Plotting Packages'''\n",
    "import seaborn as sns\n",
    "import matplotlib.pyplot as plt \n",
    "%matplotlib inline "
   ]
  },
  {
   "cell_type": "code",
   "execution_count": 2261,
   "metadata": {
    "collapsed": true
   },
   "outputs": [],
   "source": [
    "'''Loading the CSV into the training and the testing dataframe'''\n",
    "train_raw = pd.read_csv('train.csv')\n",
    "test_raw = pd.read_csv('test.csv')"
   ]
  },
  {
   "cell_type": "code",
   "execution_count": 2262,
   "metadata": {
    "collapsed": true
   },
   "outputs": [],
   "source": [
    "'''Replacing the spaces in the column names with the _'''\n",
    "train_raw.columns = train_raw.columns.str.lower().str.replace(' ', '_')\n",
    "test_raw.columns = test_raw.columns.str.lower().str.replace(' ', '_')"
   ]
  },
  {
   "cell_type": "code",
   "execution_count": 2263,
   "metadata": {},
   "outputs": [
    {
     "data": {
      "text/html": [
       "<div>\n",
       "<style>\n",
       "    .dataframe thead tr:only-child th {\n",
       "        text-align: right;\n",
       "    }\n",
       "\n",
       "    .dataframe thead th {\n",
       "        text-align: left;\n",
       "    }\n",
       "\n",
       "    .dataframe tbody tr th {\n",
       "        vertical-align: top;\n",
       "    }\n",
       "</style>\n",
       "<table border=\"1\" class=\"dataframe\">\n",
       "  <thead>\n",
       "    <tr style=\"text-align: right;\">\n",
       "      <th></th>\n",
       "      <th>id</th>\n",
       "      <th>pid</th>\n",
       "      <th>ms_subclass</th>\n",
       "      <th>ms_zoning</th>\n",
       "      <th>lot_frontage</th>\n",
       "      <th>lot_area</th>\n",
       "      <th>street</th>\n",
       "      <th>alley</th>\n",
       "      <th>lot_shape</th>\n",
       "      <th>land_contour</th>\n",
       "      <th>...</th>\n",
       "      <th>pool_area</th>\n",
       "      <th>pool_qc</th>\n",
       "      <th>fence</th>\n",
       "      <th>misc_feature</th>\n",
       "      <th>misc_val</th>\n",
       "      <th>mo_sold</th>\n",
       "      <th>yr_sold</th>\n",
       "      <th>sale_type</th>\n",
       "      <th>sale_condition</th>\n",
       "      <th>saleprice</th>\n",
       "    </tr>\n",
       "  </thead>\n",
       "  <tbody>\n",
       "    <tr>\n",
       "      <th>0</th>\n",
       "      <td>109</td>\n",
       "      <td>533352170</td>\n",
       "      <td>60</td>\n",
       "      <td>RL</td>\n",
       "      <td>NaN</td>\n",
       "      <td>13517</td>\n",
       "      <td>Pave</td>\n",
       "      <td>NaN</td>\n",
       "      <td>IR1</td>\n",
       "      <td>Lvl</td>\n",
       "      <td>...</td>\n",
       "      <td>0</td>\n",
       "      <td>NaN</td>\n",
       "      <td>NaN</td>\n",
       "      <td>NaN</td>\n",
       "      <td>0</td>\n",
       "      <td>3</td>\n",
       "      <td>2010</td>\n",
       "      <td>WD</td>\n",
       "      <td>Normal</td>\n",
       "      <td>130500</td>\n",
       "    </tr>\n",
       "    <tr>\n",
       "      <th>1</th>\n",
       "      <td>544</td>\n",
       "      <td>531379050</td>\n",
       "      <td>60</td>\n",
       "      <td>RL</td>\n",
       "      <td>43.0</td>\n",
       "      <td>11492</td>\n",
       "      <td>Pave</td>\n",
       "      <td>NaN</td>\n",
       "      <td>IR1</td>\n",
       "      <td>Lvl</td>\n",
       "      <td>...</td>\n",
       "      <td>0</td>\n",
       "      <td>NaN</td>\n",
       "      <td>NaN</td>\n",
       "      <td>NaN</td>\n",
       "      <td>0</td>\n",
       "      <td>4</td>\n",
       "      <td>2009</td>\n",
       "      <td>WD</td>\n",
       "      <td>Normal</td>\n",
       "      <td>220000</td>\n",
       "    </tr>\n",
       "  </tbody>\n",
       "</table>\n",
       "<p>2 rows × 82 columns</p>\n",
       "</div>"
      ],
      "text/plain": [
       "    id        pid  ms_subclass ms_zoning  lot_frontage  lot_area street alley  \\\n",
       "0  109  533352170           60        RL           NaN     13517   Pave   NaN   \n",
       "1  544  531379050           60        RL          43.0     11492   Pave   NaN   \n",
       "\n",
       "  lot_shape land_contour    ...     pool_area pool_qc fence misc_feature  \\\n",
       "0       IR1          Lvl    ...             0     NaN   NaN          NaN   \n",
       "1       IR1          Lvl    ...             0     NaN   NaN          NaN   \n",
       "\n",
       "  misc_val mo_sold yr_sold sale_type  sale_condition  saleprice  \n",
       "0        0       3    2010       WD           Normal     130500  \n",
       "1        0       4    2009       WD           Normal     220000  \n",
       "\n",
       "[2 rows x 82 columns]"
      ]
     },
     "execution_count": 2263,
     "metadata": {},
     "output_type": "execute_result"
    }
   ],
   "source": [
    "'''Validating the training dataset'''\n",
    "train_raw.head(2)"
   ]
  },
  {
   "cell_type": "code",
   "execution_count": 2264,
   "metadata": {},
   "outputs": [
    {
     "data": {
      "text/html": [
       "<div>\n",
       "<style>\n",
       "    .dataframe thead tr:only-child th {\n",
       "        text-align: right;\n",
       "    }\n",
       "\n",
       "    .dataframe thead th {\n",
       "        text-align: left;\n",
       "    }\n",
       "\n",
       "    .dataframe tbody tr th {\n",
       "        vertical-align: top;\n",
       "    }\n",
       "</style>\n",
       "<table border=\"1\" class=\"dataframe\">\n",
       "  <thead>\n",
       "    <tr style=\"text-align: right;\">\n",
       "      <th></th>\n",
       "      <th>id</th>\n",
       "      <th>pid</th>\n",
       "      <th>ms_subclass</th>\n",
       "      <th>ms_zoning</th>\n",
       "      <th>lot_frontage</th>\n",
       "      <th>lot_area</th>\n",
       "      <th>street</th>\n",
       "      <th>alley</th>\n",
       "      <th>lot_shape</th>\n",
       "      <th>land_contour</th>\n",
       "      <th>...</th>\n",
       "      <th>3ssn_porch</th>\n",
       "      <th>screen_porch</th>\n",
       "      <th>pool_area</th>\n",
       "      <th>pool_qc</th>\n",
       "      <th>fence</th>\n",
       "      <th>misc_feature</th>\n",
       "      <th>misc_val</th>\n",
       "      <th>mo_sold</th>\n",
       "      <th>yr_sold</th>\n",
       "      <th>sale_type</th>\n",
       "    </tr>\n",
       "  </thead>\n",
       "  <tbody>\n",
       "    <tr>\n",
       "      <th>0</th>\n",
       "      <td>2658</td>\n",
       "      <td>902301120</td>\n",
       "      <td>190</td>\n",
       "      <td>RM</td>\n",
       "      <td>69.0</td>\n",
       "      <td>9142</td>\n",
       "      <td>Pave</td>\n",
       "      <td>Grvl</td>\n",
       "      <td>Reg</td>\n",
       "      <td>Lvl</td>\n",
       "      <td>...</td>\n",
       "      <td>0</td>\n",
       "      <td>0</td>\n",
       "      <td>0</td>\n",
       "      <td>NaN</td>\n",
       "      <td>NaN</td>\n",
       "      <td>NaN</td>\n",
       "      <td>0</td>\n",
       "      <td>4</td>\n",
       "      <td>2006</td>\n",
       "      <td>WD</td>\n",
       "    </tr>\n",
       "    <tr>\n",
       "      <th>1</th>\n",
       "      <td>2718</td>\n",
       "      <td>905108090</td>\n",
       "      <td>90</td>\n",
       "      <td>RL</td>\n",
       "      <td>NaN</td>\n",
       "      <td>9662</td>\n",
       "      <td>Pave</td>\n",
       "      <td>NaN</td>\n",
       "      <td>IR1</td>\n",
       "      <td>Lvl</td>\n",
       "      <td>...</td>\n",
       "      <td>0</td>\n",
       "      <td>0</td>\n",
       "      <td>0</td>\n",
       "      <td>NaN</td>\n",
       "      <td>NaN</td>\n",
       "      <td>NaN</td>\n",
       "      <td>0</td>\n",
       "      <td>8</td>\n",
       "      <td>2006</td>\n",
       "      <td>WD</td>\n",
       "    </tr>\n",
       "  </tbody>\n",
       "</table>\n",
       "<p>2 rows × 80 columns</p>\n",
       "</div>"
      ],
      "text/plain": [
       "     id        pid  ms_subclass ms_zoning  lot_frontage  lot_area street  \\\n",
       "0  2658  902301120          190        RM          69.0      9142   Pave   \n",
       "1  2718  905108090           90        RL           NaN      9662   Pave   \n",
       "\n",
       "  alley lot_shape land_contour    ...     3ssn_porch screen_porch pool_area  \\\n",
       "0  Grvl       Reg          Lvl    ...              0            0         0   \n",
       "1   NaN       IR1          Lvl    ...              0            0         0   \n",
       "\n",
       "  pool_qc fence misc_feature misc_val mo_sold  yr_sold  sale_type  \n",
       "0     NaN   NaN          NaN        0       4     2006        WD   \n",
       "1     NaN   NaN          NaN        0       8     2006        WD   \n",
       "\n",
       "[2 rows x 80 columns]"
      ]
     },
     "execution_count": 2264,
     "metadata": {},
     "output_type": "execute_result"
    }
   ],
   "source": [
    "'''Validating the test dataset'''\n",
    "test_raw.head(2)"
   ]
  },
  {
   "cell_type": "code",
   "execution_count": 2265,
   "metadata": {},
   "outputs": [
    {
     "data": {
      "text/html": [
       "<div>\n",
       "<style>\n",
       "    .dataframe thead tr:only-child th {\n",
       "        text-align: right;\n",
       "    }\n",
       "\n",
       "    .dataframe thead th {\n",
       "        text-align: left;\n",
       "    }\n",
       "\n",
       "    .dataframe tbody tr th {\n",
       "        vertical-align: top;\n",
       "    }\n",
       "</style>\n",
       "<table border=\"1\" class=\"dataframe\">\n",
       "  <thead>\n",
       "    <tr style=\"text-align: right;\">\n",
       "      <th></th>\n",
       "      <th>id</th>\n",
       "      <th>pid</th>\n",
       "      <th>ms_subclass</th>\n",
       "      <th>ms_zoning</th>\n",
       "      <th>lot_frontage</th>\n",
       "      <th>lot_area</th>\n",
       "      <th>street</th>\n",
       "      <th>alley</th>\n",
       "      <th>lot_shape</th>\n",
       "      <th>land_contour</th>\n",
       "      <th>...</th>\n",
       "      <th>pool_qc</th>\n",
       "      <th>fence</th>\n",
       "      <th>misc_feature</th>\n",
       "      <th>misc_val</th>\n",
       "      <th>mo_sold</th>\n",
       "      <th>yr_sold</th>\n",
       "      <th>sale_type</th>\n",
       "      <th>sale_condition</th>\n",
       "      <th>saleprice</th>\n",
       "      <th>source</th>\n",
       "    </tr>\n",
       "  </thead>\n",
       "  <tbody>\n",
       "    <tr>\n",
       "      <th>0</th>\n",
       "      <td>109</td>\n",
       "      <td>533352170</td>\n",
       "      <td>60</td>\n",
       "      <td>RL</td>\n",
       "      <td>NaN</td>\n",
       "      <td>13517</td>\n",
       "      <td>Pave</td>\n",
       "      <td>NaN</td>\n",
       "      <td>IR1</td>\n",
       "      <td>Lvl</td>\n",
       "      <td>...</td>\n",
       "      <td>NaN</td>\n",
       "      <td>NaN</td>\n",
       "      <td>NaN</td>\n",
       "      <td>0</td>\n",
       "      <td>3</td>\n",
       "      <td>2010</td>\n",
       "      <td>WD</td>\n",
       "      <td>Normal</td>\n",
       "      <td>130500</td>\n",
       "      <td>Train</td>\n",
       "    </tr>\n",
       "    <tr>\n",
       "      <th>1</th>\n",
       "      <td>544</td>\n",
       "      <td>531379050</td>\n",
       "      <td>60</td>\n",
       "      <td>RL</td>\n",
       "      <td>43.0</td>\n",
       "      <td>11492</td>\n",
       "      <td>Pave</td>\n",
       "      <td>NaN</td>\n",
       "      <td>IR1</td>\n",
       "      <td>Lvl</td>\n",
       "      <td>...</td>\n",
       "      <td>NaN</td>\n",
       "      <td>NaN</td>\n",
       "      <td>NaN</td>\n",
       "      <td>0</td>\n",
       "      <td>4</td>\n",
       "      <td>2009</td>\n",
       "      <td>WD</td>\n",
       "      <td>Normal</td>\n",
       "      <td>220000</td>\n",
       "      <td>Train</td>\n",
       "    </tr>\n",
       "  </tbody>\n",
       "</table>\n",
       "<p>2 rows × 83 columns</p>\n",
       "</div>"
      ],
      "text/plain": [
       "    id        pid  ms_subclass ms_zoning  lot_frontage  lot_area street alley  \\\n",
       "0  109  533352170           60        RL           NaN     13517   Pave   NaN   \n",
       "1  544  531379050           60        RL          43.0     11492   Pave   NaN   \n",
       "\n",
       "  lot_shape land_contour   ...   pool_qc fence misc_feature misc_val mo_sold  \\\n",
       "0       IR1          Lvl   ...       NaN   NaN          NaN        0       3   \n",
       "1       IR1          Lvl   ...       NaN   NaN          NaN        0       4   \n",
       "\n",
       "  yr_sold sale_type sale_condition  saleprice  source  \n",
       "0    2010       WD          Normal     130500   Train  \n",
       "1    2009       WD          Normal     220000   Train  \n",
       "\n",
       "[2 rows x 83 columns]"
      ]
     },
     "execution_count": 2265,
     "metadata": {},
     "output_type": "execute_result"
    }
   ],
   "source": [
    "'''Adding a source column in the training dataset'''\n",
    "train_raw['source'] = 'Train'\n",
    "train_raw.head(2)"
   ]
  },
  {
   "cell_type": "code",
   "execution_count": 2266,
   "metadata": {},
   "outputs": [
    {
     "data": {
      "text/html": [
       "<div>\n",
       "<style>\n",
       "    .dataframe thead tr:only-child th {\n",
       "        text-align: right;\n",
       "    }\n",
       "\n",
       "    .dataframe thead th {\n",
       "        text-align: left;\n",
       "    }\n",
       "\n",
       "    .dataframe tbody tr th {\n",
       "        vertical-align: top;\n",
       "    }\n",
       "</style>\n",
       "<table border=\"1\" class=\"dataframe\">\n",
       "  <thead>\n",
       "    <tr style=\"text-align: right;\">\n",
       "      <th></th>\n",
       "      <th>id</th>\n",
       "      <th>pid</th>\n",
       "      <th>ms_subclass</th>\n",
       "      <th>ms_zoning</th>\n",
       "      <th>lot_frontage</th>\n",
       "      <th>lot_area</th>\n",
       "      <th>street</th>\n",
       "      <th>alley</th>\n",
       "      <th>lot_shape</th>\n",
       "      <th>land_contour</th>\n",
       "      <th>...</th>\n",
       "      <th>screen_porch</th>\n",
       "      <th>pool_area</th>\n",
       "      <th>pool_qc</th>\n",
       "      <th>fence</th>\n",
       "      <th>misc_feature</th>\n",
       "      <th>misc_val</th>\n",
       "      <th>mo_sold</th>\n",
       "      <th>yr_sold</th>\n",
       "      <th>sale_type</th>\n",
       "      <th>source</th>\n",
       "    </tr>\n",
       "  </thead>\n",
       "  <tbody>\n",
       "    <tr>\n",
       "      <th>0</th>\n",
       "      <td>2658</td>\n",
       "      <td>902301120</td>\n",
       "      <td>190</td>\n",
       "      <td>RM</td>\n",
       "      <td>69.0</td>\n",
       "      <td>9142</td>\n",
       "      <td>Pave</td>\n",
       "      <td>Grvl</td>\n",
       "      <td>Reg</td>\n",
       "      <td>Lvl</td>\n",
       "      <td>...</td>\n",
       "      <td>0</td>\n",
       "      <td>0</td>\n",
       "      <td>NaN</td>\n",
       "      <td>NaN</td>\n",
       "      <td>NaN</td>\n",
       "      <td>0</td>\n",
       "      <td>4</td>\n",
       "      <td>2006</td>\n",
       "      <td>WD</td>\n",
       "      <td>Test</td>\n",
       "    </tr>\n",
       "    <tr>\n",
       "      <th>1</th>\n",
       "      <td>2718</td>\n",
       "      <td>905108090</td>\n",
       "      <td>90</td>\n",
       "      <td>RL</td>\n",
       "      <td>NaN</td>\n",
       "      <td>9662</td>\n",
       "      <td>Pave</td>\n",
       "      <td>NaN</td>\n",
       "      <td>IR1</td>\n",
       "      <td>Lvl</td>\n",
       "      <td>...</td>\n",
       "      <td>0</td>\n",
       "      <td>0</td>\n",
       "      <td>NaN</td>\n",
       "      <td>NaN</td>\n",
       "      <td>NaN</td>\n",
       "      <td>0</td>\n",
       "      <td>8</td>\n",
       "      <td>2006</td>\n",
       "      <td>WD</td>\n",
       "      <td>Test</td>\n",
       "    </tr>\n",
       "  </tbody>\n",
       "</table>\n",
       "<p>2 rows × 81 columns</p>\n",
       "</div>"
      ],
      "text/plain": [
       "     id        pid  ms_subclass ms_zoning  lot_frontage  lot_area street  \\\n",
       "0  2658  902301120          190        RM          69.0      9142   Pave   \n",
       "1  2718  905108090           90        RL           NaN      9662   Pave   \n",
       "\n",
       "  alley lot_shape land_contour   ...   screen_porch pool_area pool_qc fence  \\\n",
       "0  Grvl       Reg          Lvl   ...              0         0     NaN   NaN   \n",
       "1   NaN       IR1          Lvl   ...              0         0     NaN   NaN   \n",
       "\n",
       "  misc_feature misc_val mo_sold yr_sold  sale_type  source  \n",
       "0          NaN        0       4    2006        WD     Test  \n",
       "1          NaN        0       8    2006        WD     Test  \n",
       "\n",
       "[2 rows x 81 columns]"
      ]
     },
     "execution_count": 2266,
     "metadata": {},
     "output_type": "execute_result"
    }
   ],
   "source": [
    "'''Adding a source column in the test dataset'''\n",
    "test_raw['source'] = 'Test'\n",
    "test_raw.head(2)"
   ]
  },
  {
   "cell_type": "code",
   "execution_count": 2267,
   "metadata": {},
   "outputs": [
    {
     "data": {
      "text/html": [
       "<div>\n",
       "<style>\n",
       "    .dataframe thead tr:only-child th {\n",
       "        text-align: right;\n",
       "    }\n",
       "\n",
       "    .dataframe thead th {\n",
       "        text-align: left;\n",
       "    }\n",
       "\n",
       "    .dataframe tbody tr th {\n",
       "        vertical-align: top;\n",
       "    }\n",
       "</style>\n",
       "<table border=\"1\" class=\"dataframe\">\n",
       "  <thead>\n",
       "    <tr style=\"text-align: right;\">\n",
       "      <th></th>\n",
       "      <th>1st_flr_sf</th>\n",
       "      <th>2nd_flr_sf</th>\n",
       "      <th>3ssn_porch</th>\n",
       "      <th>alley</th>\n",
       "      <th>bedroom_abvgr</th>\n",
       "      <th>bldg_type</th>\n",
       "      <th>bsmt_cond</th>\n",
       "      <th>bsmt_exposure</th>\n",
       "      <th>bsmt_full_bath</th>\n",
       "      <th>bsmt_half_bath</th>\n",
       "      <th>...</th>\n",
       "      <th>screen_porch</th>\n",
       "      <th>source</th>\n",
       "      <th>street</th>\n",
       "      <th>total_bsmt_sf</th>\n",
       "      <th>totrms_abvgrd</th>\n",
       "      <th>utilities</th>\n",
       "      <th>wood_deck_sf</th>\n",
       "      <th>year_built</th>\n",
       "      <th>year_remod/add</th>\n",
       "      <th>yr_sold</th>\n",
       "    </tr>\n",
       "  </thead>\n",
       "  <tbody>\n",
       "    <tr>\n",
       "      <th>0</th>\n",
       "      <td>725</td>\n",
       "      <td>754</td>\n",
       "      <td>0</td>\n",
       "      <td>NaN</td>\n",
       "      <td>3</td>\n",
       "      <td>1Fam</td>\n",
       "      <td>TA</td>\n",
       "      <td>No</td>\n",
       "      <td>0.0</td>\n",
       "      <td>0.0</td>\n",
       "      <td>...</td>\n",
       "      <td>0</td>\n",
       "      <td>Train</td>\n",
       "      <td>Pave</td>\n",
       "      <td>725.0</td>\n",
       "      <td>6</td>\n",
       "      <td>AllPub</td>\n",
       "      <td>0</td>\n",
       "      <td>1976</td>\n",
       "      <td>2005</td>\n",
       "      <td>2010</td>\n",
       "    </tr>\n",
       "    <tr>\n",
       "      <th>1</th>\n",
       "      <td>913</td>\n",
       "      <td>1209</td>\n",
       "      <td>0</td>\n",
       "      <td>NaN</td>\n",
       "      <td>4</td>\n",
       "      <td>1Fam</td>\n",
       "      <td>TA</td>\n",
       "      <td>No</td>\n",
       "      <td>1.0</td>\n",
       "      <td>0.0</td>\n",
       "      <td>...</td>\n",
       "      <td>0</td>\n",
       "      <td>Train</td>\n",
       "      <td>Pave</td>\n",
       "      <td>913.0</td>\n",
       "      <td>8</td>\n",
       "      <td>AllPub</td>\n",
       "      <td>0</td>\n",
       "      <td>1996</td>\n",
       "      <td>1997</td>\n",
       "      <td>2009</td>\n",
       "    </tr>\n",
       "  </tbody>\n",
       "</table>\n",
       "<p>2 rows × 83 columns</p>\n",
       "</div>"
      ],
      "text/plain": [
       "   1st_flr_sf  2nd_flr_sf  3ssn_porch alley  bedroom_abvgr bldg_type  \\\n",
       "0         725         754           0   NaN              3      1Fam   \n",
       "1         913        1209           0   NaN              4      1Fam   \n",
       "\n",
       "  bsmt_cond bsmt_exposure  bsmt_full_bath  bsmt_half_bath   ...    \\\n",
       "0        TA            No             0.0             0.0   ...     \n",
       "1        TA            No             1.0             0.0   ...     \n",
       "\n",
       "  screen_porch  source  street  total_bsmt_sf totrms_abvgrd utilities  \\\n",
       "0            0   Train    Pave          725.0             6    AllPub   \n",
       "1            0   Train    Pave          913.0             8    AllPub   \n",
       "\n",
       "  wood_deck_sf year_built year_remod/add yr_sold  \n",
       "0            0       1976           2005    2010  \n",
       "1            0       1996           1997    2009  \n",
       "\n",
       "[2 rows x 83 columns]"
      ]
     },
     "execution_count": 2267,
     "metadata": {},
     "output_type": "execute_result"
    }
   ],
   "source": [
    "'''Merging the Training and the Test Dataset before creating the dummies'''\n",
    "train_test_merged = train_raw.append(test_raw)\n",
    "train_test_merged.head(2)"
   ]
  },
  {
   "cell_type": "code",
   "execution_count": 2268,
   "metadata": {},
   "outputs": [
    {
     "name": "stdout",
     "output_type": "stream",
     "text": [
      "Training Shape:  (2051, 83)\n",
      "Testing Shape:  (879, 81)\n",
      "Merge Shape:  (2930, 83)\n"
     ]
    }
   ],
   "source": [
    "'''Validating the Shape of the Training, Test and the Merged Dataframes'''\n",
    "\n",
    "print ('Training Shape: ', train_raw.shape)\n",
    "print ('Testing Shape: ', test_raw.shape)\n",
    "print ('Merge Shape: ', train_test_merged.shape)"
   ]
  },
  {
   "cell_type": "code",
   "execution_count": 2272,
   "metadata": {},
   "outputs": [
    {
     "name": "stdout",
     "output_type": "stream",
     "text": [
      "<class 'pandas.core.frame.DataFrame'>\n",
      "Int64Index: 2930 entries, 0 to 878\n",
      "Data columns (total 83 columns):\n",
      "1st_flr_sf         2930 non-null int64\n",
      "2nd_flr_sf         2930 non-null int64\n",
      "3ssn_porch         2930 non-null int64\n",
      "alley              198 non-null object\n",
      "bedroom_abvgr      2930 non-null int64\n",
      "bldg_type          2930 non-null object\n",
      "bsmt_cond          2850 non-null object\n",
      "bsmt_exposure      2847 non-null object\n",
      "bsmt_full_bath     2928 non-null float64\n",
      "bsmt_half_bath     2928 non-null float64\n",
      "bsmt_qual          2850 non-null object\n",
      "bsmt_unf_sf        2929 non-null float64\n",
      "bsmtfin_sf_1       2929 non-null float64\n",
      "bsmtfin_sf_2       2929 non-null float64\n",
      "bsmtfin_type_1     2850 non-null object\n",
      "bsmtfin_type_2     2849 non-null object\n",
      "central_air        2930 non-null object\n",
      "condition_1        2930 non-null object\n",
      "condition_2        2930 non-null object\n",
      "electrical         2929 non-null object\n",
      "enclosed_porch     2930 non-null int64\n",
      "exter_cond         2930 non-null object\n",
      "exter_qual         2930 non-null object\n",
      "exterior_1st       2930 non-null object\n",
      "exterior_2nd       2930 non-null object\n",
      "fence              572 non-null object\n",
      "fireplace_qu       1508 non-null object\n",
      "fireplaces         2930 non-null int64\n",
      "foundation         2930 non-null object\n",
      "full_bath          2930 non-null int64\n",
      "functional         2930 non-null object\n",
      "garage_area        2929 non-null float64\n",
      "garage_cars        2929 non-null float64\n",
      "garage_cond        2771 non-null object\n",
      "garage_finish      2771 non-null object\n",
      "garage_qual        2771 non-null object\n",
      "garage_type        2773 non-null object\n",
      "garage_yr_blt      2771 non-null float64\n",
      "gr_liv_area        2930 non-null int64\n",
      "half_bath          2930 non-null int64\n",
      "heating            2930 non-null object\n",
      "heating_qc         2930 non-null object\n",
      "house_style        2930 non-null object\n",
      "id                 2930 non-null int64\n",
      "kitchen_abvgr      2930 non-null int64\n",
      "kitchen_qual       2930 non-null object\n",
      "land_contour       2930 non-null object\n",
      "land_slope         2930 non-null object\n",
      "lot_area           2930 non-null int64\n",
      "lot_config         2930 non-null object\n",
      "lot_frontage       2440 non-null float64\n",
      "lot_shape          2930 non-null object\n",
      "low_qual_fin_sf    2930 non-null int64\n",
      "mas_vnr_area       2907 non-null float64\n",
      "mas_vnr_type       2907 non-null object\n",
      "misc_feature       106 non-null object\n",
      "misc_val           2930 non-null int64\n",
      "mo_sold            2930 non-null int64\n",
      "ms_subclass        2930 non-null int64\n",
      "ms_zoning          2930 non-null object\n",
      "neighborhood       2930 non-null object\n",
      "open_porch_sf      2930 non-null int64\n",
      "overall_cond       2930 non-null int64\n",
      "overall_qual       2930 non-null int64\n",
      "paved_drive        2930 non-null object\n",
      "pid                2930 non-null int64\n",
      "pool_area          2930 non-null int64\n",
      "pool_qc            13 non-null object\n",
      "roof_matl          2930 non-null object\n",
      "roof_style         2930 non-null object\n",
      "sale_condition     2051 non-null object\n",
      "sale_type          2930 non-null object\n",
      "saleprice          2051 non-null float64\n",
      "screen_porch       2930 non-null int64\n",
      "source             2930 non-null object\n",
      "street             2930 non-null object\n",
      "total_bsmt_sf      2929 non-null float64\n",
      "totrms_abvgrd      2930 non-null int64\n",
      "utilities          2930 non-null object\n",
      "wood_deck_sf       2930 non-null int64\n",
      "year_built         2930 non-null int64\n",
      "year_remod/add     2930 non-null int64\n",
      "yr_sold            2930 non-null int64\n",
      "dtypes: float64(12), int64(27), object(44)\n",
      "memory usage: 1.9+ MB\n"
     ]
    }
   ],
   "source": [
    "train_test_merged.info()"
   ]
  },
  {
   "cell_type": "code",
   "execution_count": 2273,
   "metadata": {},
   "outputs": [
    {
     "data": {
      "text/plain": [
       "['alley',\n",
       " 'bsmt_cond',\n",
       " 'bsmt_exposure',\n",
       " 'bsmt_full_bath',\n",
       " 'bsmt_half_bath',\n",
       " 'bsmt_qual',\n",
       " 'bsmt_unf_sf',\n",
       " 'bsmtfin_sf_1',\n",
       " 'bsmtfin_sf_2',\n",
       " 'bsmtfin_type_1',\n",
       " 'bsmtfin_type_2',\n",
       " 'electrical',\n",
       " 'fence',\n",
       " 'fireplace_qu',\n",
       " 'garage_area',\n",
       " 'garage_cars',\n",
       " 'garage_cond',\n",
       " 'garage_finish',\n",
       " 'garage_qual',\n",
       " 'garage_type',\n",
       " 'garage_yr_blt',\n",
       " 'lot_frontage',\n",
       " 'mas_vnr_area',\n",
       " 'mas_vnr_type',\n",
       " 'misc_feature',\n",
       " 'pool_qc',\n",
       " 'sale_condition',\n",
       " 'saleprice',\n",
       " 'total_bsmt_sf']"
      ]
     },
     "execution_count": 2273,
     "metadata": {},
     "output_type": "execute_result"
    }
   ],
   "source": [
    "'''Retrieving the list of null columns'''\n",
    "null_col_list = list(train_test_merged.columns[train_test_merged.isnull().sum()>0])\n",
    "null_col_list"
   ]
  },
  {
   "cell_type": "code",
   "execution_count": 2274,
   "metadata": {},
   "outputs": [
    {
     "name": "stdout",
     "output_type": "stream",
     "text": [
      "Number of Null Columns:  29\n"
     ]
    }
   ],
   "source": [
    "'''Length of Null Columns'''\n",
    "print ('Number of Null Columns: ', len(null_col_list))"
   ]
  },
  {
   "cell_type": "code",
   "execution_count": 2275,
   "metadata": {},
   "outputs": [
    {
     "name": "stdout",
     "output_type": "stream",
     "text": [
      "Object Col Count:  44\n",
      "Numberic Col Count:  39\n"
     ]
    }
   ],
   "source": [
    "'''Validating the count of the Numeric and Non-Numeric columns'''\n",
    "object_col_count = 0 \n",
    "numeric_col_count = 0 \n",
    "\n",
    "\n",
    "for col_type in train_test_merged.dtypes: \n",
    "    if col_type =='object': \n",
    "        object_col_count += 1 \n",
    "    elif col_type =='int64' or col_type =='float64': \n",
    "        numeric_col_count += 1\n",
    "    else: \n",
    "        continue\n",
    "\n",
    "print ('Object Col Count: ', object_col_count)\n",
    "print ('Numberic Col Count: ', numeric_col_count)"
   ]
  },
  {
   "cell_type": "code",
   "execution_count": 2276,
   "metadata": {},
   "outputs": [
    {
     "name": "stdout",
     "output_type": "stream",
     "text": [
      "Columns of type Object:\n",
      "\n",
      " ['alley', 'bldg_type', 'bsmt_cond', 'bsmt_exposure', 'bsmt_qual', 'bsmtfin_type_1', 'bsmtfin_type_2', 'central_air', 'condition_1', 'condition_2', 'electrical', 'exter_cond', 'exter_qual', 'exterior_1st', 'exterior_2nd', 'fence', 'fireplace_qu', 'foundation', 'functional', 'garage_cond', 'garage_finish', 'garage_qual', 'garage_type', 'heating', 'heating_qc', 'house_style', 'kitchen_qual', 'land_contour', 'land_slope', 'lot_config', 'lot_shape', 'mas_vnr_type', 'misc_feature', 'ms_zoning', 'neighborhood', 'paved_drive', 'pool_qc', 'roof_matl', 'roof_style', 'sale_condition', 'sale_type', 'source', 'street', 'utilities']\n",
      "\n",
      "\n",
      "Number of Object Columns:  44\n",
      "\n",
      "\n",
      "Columns of type Int or Float:\n",
      "\n",
      " ['1st_flr_sf', '2nd_flr_sf', '3ssn_porch', 'bedroom_abvgr', 'bsmt_full_bath', 'bsmt_half_bath', 'bsmt_unf_sf', 'bsmtfin_sf_1', 'bsmtfin_sf_2', 'enclosed_porch', 'fireplaces', 'full_bath', 'garage_area', 'garage_cars', 'garage_yr_blt', 'gr_liv_area', 'half_bath', 'id', 'kitchen_abvgr', 'lot_area', 'lot_frontage', 'low_qual_fin_sf', 'mas_vnr_area', 'misc_val', 'mo_sold', 'ms_subclass', 'open_porch_sf', 'overall_cond', 'overall_qual', 'pid', 'pool_area', 'saleprice', 'screen_porch', 'total_bsmt_sf', 'totrms_abvgrd', 'wood_deck_sf', 'year_built', 'year_remod/add', 'yr_sold']\n",
      "\n",
      "\n",
      "Number of Numeric Columns:  39\n"
     ]
    }
   ],
   "source": [
    "object_col_list = []\n",
    "numeric_col_list = [] \n",
    "\n",
    "\n",
    "for k,v in enumerate(train_test_merged.dtypes):\n",
    "    if v =='object': \n",
    "        object_col_list.append(train_test_merged.columns[k])\n",
    "    else: \n",
    "        numeric_col_list.append(train_test_merged.columns[k])\n",
    "\n",
    "print ('Columns of type Object:\\n\\n',  object_col_list)\n",
    "print ('\\n')\n",
    "print ('Number of Object Columns: ', len(object_col_list))\n",
    "print ('\\n')\n",
    "print ('Columns of type Int or Float:\\n\\n',  numeric_col_list)\n",
    "print ('\\n')\n",
    "print ('Number of Numeric Columns: ', len(numeric_col_list))"
   ]
  },
  {
   "cell_type": "code",
   "execution_count": 2277,
   "metadata": {},
   "outputs": [
    {
     "data": {
      "text/plain": [
       "alley              object\n",
       "bsmt_cond          object\n",
       "bsmt_exposure      object\n",
       "bsmt_full_bath    float64\n",
       "bsmt_half_bath    float64\n",
       "bsmt_qual          object\n",
       "bsmt_unf_sf       float64\n",
       "bsmtfin_sf_1      float64\n",
       "bsmtfin_sf_2      float64\n",
       "bsmtfin_type_1     object\n",
       "bsmtfin_type_2     object\n",
       "electrical         object\n",
       "fence              object\n",
       "fireplace_qu       object\n",
       "garage_area       float64\n",
       "garage_cars       float64\n",
       "garage_cond        object\n",
       "garage_finish      object\n",
       "garage_qual        object\n",
       "garage_type        object\n",
       "garage_yr_blt     float64\n",
       "lot_frontage      float64\n",
       "mas_vnr_area      float64\n",
       "mas_vnr_type       object\n",
       "misc_feature       object\n",
       "pool_qc            object\n",
       "sale_condition     object\n",
       "saleprice         float64\n",
       "total_bsmt_sf     float64\n",
       "dtype: object"
      ]
     },
     "execution_count": 2277,
     "metadata": {},
     "output_type": "execute_result"
    }
   ],
   "source": [
    "'''Reviewing the null columns types'''\n",
    "train_test_merged[null_col_list].dtypes"
   ]
  },
  {
   "cell_type": "code",
   "execution_count": 2285,
   "metadata": {},
   "outputs": [],
   "source": [
    "'''Function to impute the categorical columns with the Most Frequent Values'''\n",
    "\n",
    "def categorical_imputer(col):\n",
    "    print ('Null Count in ', '\"',  cols ,'\"',  'column Pre Transform: ' , train_test_merged[col].isnull().sum())\n",
    "    train_test_merged[col].fillna(value = train_test_merged[col].value_counts().index[0], inplace=True)\n",
    "    print ('Null Count in ', '\"',  cols ,'\"',  'column Post Transform: ' , train_test_merged[col].isnull().sum())\n",
    "    print ('\\n')\n",
    "    "
   ]
  },
  {
   "cell_type": "code",
   "execution_count": 2286,
   "metadata": {},
   "outputs": [
    {
     "name": "stdout",
     "output_type": "stream",
     "text": [
      "Null Count in  \" yr_sold \" column Pre Transform:  2732\n",
      "Null Count in  \" yr_sold \" column Post Transform:  0\n",
      "\n",
      "\n"
     ]
    }
   ],
   "source": [
    "'''Testing the function on the alley column'''\n",
    "categorical_imputer('alley')"
   ]
  },
  {
   "cell_type": "code",
   "execution_count": 2287,
   "metadata": {},
   "outputs": [
    {
     "data": {
      "text/plain": [
       "Grvl    2852\n",
       "Pave      78\n",
       "Name: alley, dtype: int64"
      ]
     },
     "execution_count": 2287,
     "metadata": {},
     "output_type": "execute_result"
    }
   ],
   "source": [
    "train_test_merged.alley.value_counts()"
   ]
  },
  {
   "cell_type": "code",
   "execution_count": 2288,
   "metadata": {},
   "outputs": [
    {
     "name": "stdout",
     "output_type": "stream",
     "text": [
      "Null Count in  \" alley \" column Pre Transform:  0\n",
      "Null Count in  \" alley \" column Post Transform:  0\n",
      "\n",
      "\n",
      "Null Count in  \" bsmt_cond \" column Pre Transform:  80\n",
      "Null Count in  \" bsmt_cond \" column Post Transform:  0\n",
      "\n",
      "\n",
      "Null Count in  \" bsmt_exposure \" column Pre Transform:  83\n",
      "Null Count in  \" bsmt_exposure \" column Post Transform:  0\n",
      "\n",
      "\n",
      "Null Count in  \" bsmt_qual \" column Pre Transform:  80\n",
      "Null Count in  \" bsmt_qual \" column Post Transform:  0\n",
      "\n",
      "\n",
      "Null Count in  \" bsmtfin_type_1 \" column Pre Transform:  80\n",
      "Null Count in  \" bsmtfin_type_1 \" column Post Transform:  0\n",
      "\n",
      "\n",
      "Null Count in  \" bsmtfin_type_2 \" column Pre Transform:  81\n",
      "Null Count in  \" bsmtfin_type_2 \" column Post Transform:  0\n",
      "\n",
      "\n",
      "Null Count in  \" electrical \" column Pre Transform:  1\n",
      "Null Count in  \" electrical \" column Post Transform:  0\n",
      "\n",
      "\n",
      "Null Count in  \" fence \" column Pre Transform:  2358\n",
      "Null Count in  \" fence \" column Post Transform:  0\n",
      "\n",
      "\n",
      "Null Count in  \" fireplace_qu \" column Pre Transform:  1422\n",
      "Null Count in  \" fireplace_qu \" column Post Transform:  0\n",
      "\n",
      "\n",
      "Null Count in  \" garage_cond \" column Pre Transform:  159\n",
      "Null Count in  \" garage_cond \" column Post Transform:  0\n",
      "\n",
      "\n",
      "Null Count in  \" garage_finish \" column Pre Transform:  159\n",
      "Null Count in  \" garage_finish \" column Post Transform:  0\n",
      "\n",
      "\n",
      "Null Count in  \" garage_qual \" column Pre Transform:  159\n",
      "Null Count in  \" garage_qual \" column Post Transform:  0\n",
      "\n",
      "\n",
      "Null Count in  \" garage_type \" column Pre Transform:  157\n",
      "Null Count in  \" garage_type \" column Post Transform:  0\n",
      "\n",
      "\n",
      "Null Count in  \" mas_vnr_type \" column Pre Transform:  23\n",
      "Null Count in  \" mas_vnr_type \" column Post Transform:  0\n",
      "\n",
      "\n",
      "Null Count in  \" misc_feature \" column Pre Transform:  2824\n",
      "Null Count in  \" misc_feature \" column Post Transform:  0\n",
      "\n",
      "\n",
      "Null Count in  \" pool_qc \" column Pre Transform:  2917\n",
      "Null Count in  \" pool_qc \" column Post Transform:  0\n",
      "\n",
      "\n",
      "Null Count in  \" sale_condition \" column Pre Transform:  879\n",
      "Null Count in  \" sale_condition \" column Post Transform:  0\n",
      "\n",
      "\n"
     ]
    }
   ],
   "source": [
    "'''Using the for loop on the null columns and imputing the object columns with the most frequent value'''\n",
    "for cols in null_col_list: \n",
    "    if train_test_merged[cols].dtypes == 'object': \n",
    "        categorical_imputer(cols)"
   ]
  },
  {
   "cell_type": "code",
   "execution_count": 2289,
   "metadata": {},
   "outputs": [
    {
     "data": {
      "text/plain": [
       "Index(['bsmt_full_bath', 'bsmt_half_bath', 'bsmt_unf_sf', 'bsmtfin_sf_1',\n",
       "       'bsmtfin_sf_2', 'garage_area', 'garage_cars', 'garage_yr_blt',\n",
       "       'lot_frontage', 'mas_vnr_area', 'saleprice', 'total_bsmt_sf'],\n",
       "      dtype='object')"
      ]
     },
     "execution_count": 2289,
     "metadata": {},
     "output_type": "execute_result"
    }
   ],
   "source": [
    "'''Validating the remaning null columms'''\n",
    "train_test_merged.columns[train_test_merged.isnull().sum()>0]"
   ]
  },
  {
   "cell_type": "markdown",
   "metadata": {},
   "source": [
    "### Most of the columns are numeric values, so we shall impute using the the sklearn library in later steps"
   ]
  },
  {
   "cell_type": "markdown",
   "metadata": {},
   "source": [
    "# So far we have managed to extract the merge the two sets of data and also managed to impute the categorical columns. The next step will be to create the dummies for the columns with the object type"
   ]
  },
  {
   "cell_type": "code",
   "execution_count": 2292,
   "metadata": {},
   "outputs": [
    {
     "name": "stdout",
     "output_type": "stream",
     "text": [
      "(2930, 265)\n"
     ]
    }
   ],
   "source": [
    "train_test_merge_dummies = pd.get_dummies(train_test_merged, drop_first=True)\n",
    "print (train_test_merge_dummies.shape)"
   ]
  },
  {
   "cell_type": "code",
   "execution_count": 2293,
   "metadata": {
    "collapsed": true
   },
   "outputs": [],
   "source": [
    "cols_to_exclude = ['pid', 'sale_condition', 'saleprice']"
   ]
  },
  {
   "cell_type": "code",
   "execution_count": 2294,
   "metadata": {},
   "outputs": [
    {
     "data": {
      "text/plain": [
       "['1st_flr_sf', '2nd_flr_sf', '3ssn_porch', 'bedroom_abvgr', 'bsmt_full_bath']"
      ]
     },
     "execution_count": 2294,
     "metadata": {},
     "output_type": "execute_result"
    }
   ],
   "source": [
    "cols_to_include= []\n",
    "for columns in list(train_test_merge_dummies.columns): \n",
    "    if columns not in cols_to_exclude: \n",
    "        cols_to_include.append(columns)\n",
    "cols_to_include[0:5]"
   ]
  },
  {
   "cell_type": "code",
   "execution_count": 2295,
   "metadata": {},
   "outputs": [
    {
     "data": {
      "text/plain": [
       "1    2051\n",
       "0     879\n",
       "Name: source_Train, dtype: int64"
      ]
     },
     "execution_count": 2295,
     "metadata": {},
     "output_type": "execute_result"
    }
   ],
   "source": [
    "train_test_merge_dummies['source_Train'].value_counts()"
   ]
  },
  {
   "cell_type": "markdown",
   "metadata": {},
   "source": [
    "# Cleaned up code till this point. Next step will be to extract the test and training sets to build the model "
   ]
  },
  {
   "cell_type": "code",
   "execution_count": 2298,
   "metadata": {},
   "outputs": [],
   "source": [
    "X_new_training_data = train_test_merge_dummies.loc[train_test_merge_dummies['source_Train'] == 1,cols_to_include]\n",
    "y_new_training_data = train_test_merge_dummies.loc[train_test_merge_dummies['source_Train'] == 1,'saleprice']"
   ]
  },
  {
   "cell_type": "code",
   "execution_count": 2299,
   "metadata": {
    "collapsed": true
   },
   "outputs": [],
   "source": [
    "X_new_test_data = train_test_merge_dummies.loc[train_test_merge_dummies['source_Train'] == 0,cols_to_include]"
   ]
  },
  {
   "cell_type": "code",
   "execution_count": 2300,
   "metadata": {},
   "outputs": [],
   "source": [
    "X_new_training_data.drop(['garage_yr_blt', 'lot_frontage', 'mas_vnr_area'], axis=1, inplace=True)"
   ]
  },
  {
   "cell_type": "code",
   "execution_count": 2301,
   "metadata": {
    "collapsed": true
   },
   "outputs": [],
   "source": [
    "X_new_test_data.drop(['garage_yr_blt', 'lot_frontage', 'mas_vnr_area'], axis=1, inplace=True)"
   ]
  },
  {
   "cell_type": "code",
   "execution_count": 2302,
   "metadata": {},
   "outputs": [
    {
     "name": "stdout",
     "output_type": "stream",
     "text": [
      "(2051, 260)\n",
      "(2051,)\n",
      "(879, 260)\n"
     ]
    }
   ],
   "source": [
    "print (X_new_training_data.shape)\n",
    "print (y_new_training_data.shape)\n",
    "print (X_new_test_data.shape)"
   ]
  },
  {
   "cell_type": "code",
   "execution_count": 2327,
   "metadata": {},
   "outputs": [],
   "source": [
    "# def numeric_col_extractor(df):\n",
    "#     for k,v in enumerate(df.dtypes):\n",
    "#         if v == 'int64' or v == 'float64' :\n",
    "#             numeric_col_list_dummies.append(df.columns[k])\n",
    "#         else: \n",
    "#             continue\n",
    "#     return numeric_col_list_dummies\n"
   ]
  },
  {
   "cell_type": "code",
   "execution_count": 2328,
   "metadata": {},
   "outputs": [],
   "source": [
    "# num_cols = numeric_col_extractor(X_new_training_data)\n",
    "# numeric_df = X_new_training_data.loc[:,num_cols]\n",
    "# im = Imputer(strategy = 'median')\n",
    "# transformed_train = im.fit_transform(numeric_df)\n",
    "\n",
    "# num_test_cols = numeric_col_extractor(X_new_training_data)\n",
    "# numeric_test_df = X_new_test_data.loc[:,num_test_cols]\n",
    "# transformed_test = im.transform(numeric_test_df)"
   ]
  },
  {
   "cell_type": "code",
   "execution_count": 2329,
   "metadata": {
    "collapsed": true
   },
   "outputs": [],
   "source": [
    "median_imputer = Imputer(strategy='median')"
   ]
  },
  {
   "cell_type": "code",
   "execution_count": 2330,
   "metadata": {},
   "outputs": [
    {
     "data": {
      "text/plain": [
       "Index([], dtype='object')"
      ]
     },
     "execution_count": 2330,
     "metadata": {},
     "output_type": "execute_result"
    }
   ],
   "source": [
    "'''Numeric Columns in the Training set that needs to be addressed'''\n",
    "X_new_training_data.columns[X_new_training_data.isnull().sum()>0]"
   ]
  },
  {
   "cell_type": "code",
   "execution_count": 2331,
   "metadata": {},
   "outputs": [
    {
     "name": "stdout",
     "output_type": "stream",
     "text": [
      "['1st_flr_sf', '2nd_flr_sf', '3ssn_porch', 'bedroom_abvgr', 'bsmt_full_bath', 'bsmt_half_bath', 'bsmt_unf_sf', 'bsmtfin_sf_1', 'bsmtfin_sf_2', 'enclosed_porch', 'fireplaces', 'full_bath', 'garage_area', 'garage_cars', 'gr_liv_area', 'half_bath', 'id', 'kitchen_abvgr', 'lot_area', 'low_qual_fin_sf', 'misc_val', 'mo_sold', 'ms_subclass', 'open_porch_sf', 'overall_cond', 'overall_qual', 'pool_area', 'screen_porch', 'total_bsmt_sf', 'totrms_abvgrd', 'wood_deck_sf', 'year_built', 'year_remod/add', 'yr_sold']\n"
     ]
    }
   ],
   "source": [
    "numeric_col_list_dummies=[]\n",
    "for k,v in enumerate(X_new_training_data.dtypes):\n",
    "    if v == 'int64' or v == 'float64' : \n",
    "        numeric_col_list_dummies.append(X_new_training_data.columns[k])\n",
    "\n",
    "    else: \n",
    "        continue\n",
    "print (numeric_col_list_dummies)"
   ]
  },
  {
   "cell_type": "code",
   "execution_count": 2332,
   "metadata": {},
   "outputs": [],
   "source": [
    "'''Imputing all the numeric colums in X_Train'''\n",
    "for cols in numeric_col_list_dummies:\n",
    "    X_new_training_data[cols] = median_imputer.fit_transform(X_new_training_data[[cols]])\n"
   ]
  },
  {
   "cell_type": "code",
   "execution_count": 2333,
   "metadata": {},
   "outputs": [
    {
     "data": {
      "text/plain": [
       "Index([], dtype='object')"
      ]
     },
     "execution_count": 2333,
     "metadata": {},
     "output_type": "execute_result"
    }
   ],
   "source": [
    "X_new_training_data.columns[X_new_training_data.isnull().sum()>0]"
   ]
  },
  {
   "cell_type": "code",
   "execution_count": 2311,
   "metadata": {},
   "outputs": [
    {
     "data": {
      "text/plain": [
       "0"
      ]
     },
     "execution_count": 2311,
     "metadata": {},
     "output_type": "execute_result"
    }
   ],
   "source": [
    "y_new_training_data.isnull().sum()"
   ]
  },
  {
   "cell_type": "code",
   "execution_count": 2312,
   "metadata": {},
   "outputs": [],
   "source": [
    "lr = LinearRegression()"
   ]
  },
  {
   "cell_type": "code",
   "execution_count": 2315,
   "metadata": {},
   "outputs": [
    {
     "data": {
      "text/plain": [
       "LinearRegression(copy_X=True, fit_intercept=True, n_jobs=1, normalize=False)"
      ]
     },
     "execution_count": 2315,
     "metadata": {},
     "output_type": "execute_result"
    }
   ],
   "source": [
    "lr.fit(X_new_training_data, y_new_training_data)"
   ]
  },
  {
   "cell_type": "code",
   "execution_count": 2316,
   "metadata": {},
   "outputs": [
    {
     "data": {
      "text/plain": [
       "0.94220666949129606"
      ]
     },
     "execution_count": 2316,
     "metadata": {},
     "output_type": "execute_result"
    }
   ],
   "source": [
    "lr.score(X_new_training_data, y_new_training_data)"
   ]
  },
  {
   "cell_type": "code",
   "execution_count": 2322,
   "metadata": {
    "collapsed": true
   },
   "outputs": [],
   "source": [
    "y_predicted = lr.predict(X_new_test_data)"
   ]
  },
  {
   "cell_type": "code",
   "execution_count": 2323,
   "metadata": {},
   "outputs": [
    {
     "data": {
      "text/plain": [
       "array([ 128093.77841503,  155064.8375155 ,  195676.982568  ,\n",
       "        105518.6446546 ,  172272.62714757])"
      ]
     },
     "execution_count": 2323,
     "metadata": {},
     "output_type": "execute_result"
    }
   ],
   "source": [
    "y_predicted[0:5]"
   ]
  },
  {
   "cell_type": "code",
   "execution_count": 2324,
   "metadata": {},
   "outputs": [
    {
     "name": "stdout",
     "output_type": "stream",
     "text": [
      "<class 'pandas.core.frame.DataFrame'>\n",
      "Int64Index: 879 entries, 0 to 878\n",
      "Data columns (total 2 columns):\n",
      "Id           879 non-null int64\n",
      "SalePrice    879 non-null float64\n",
      "dtypes: float64(1), int64(1)\n",
      "memory usage: 20.6 KB\n"
     ]
    }
   ],
   "source": [
    "d = {'Id': X_new_test_data['id'], 'SalePrice': y_predicted}\n",
    "predicted_df= pd.DataFrame(d)\n",
    "predicted_df.info()"
   ]
  },
  {
   "cell_type": "code",
   "execution_count": 2325,
   "metadata": {},
   "outputs": [
    {
     "data": {
      "text/plain": [
       "dtype('int64')"
      ]
     },
     "execution_count": 2325,
     "metadata": {},
     "output_type": "execute_result"
    }
   ],
   "source": [
    "X_new_test_data['id'].dtype"
   ]
  },
  {
   "cell_type": "code",
   "execution_count": 2326,
   "metadata": {
    "collapsed": true
   },
   "outputs": [],
   "source": [
    "predicted_df.to_csv('ac_predictions.csv')"
   ]
  }
 ],
 "metadata": {
  "kernelspec": {
   "display_name": "Python 3",
   "language": "python",
   "name": "python3"
  },
  "language_info": {
   "codemirror_mode": {
    "name": "ipython",
    "version": 3
   },
   "file_extension": ".py",
   "mimetype": "text/x-python",
   "name": "python",
   "nbconvert_exporter": "python",
   "pygments_lexer": "ipython3",
   "version": "3.6.1"
  }
 },
 "nbformat": 4,
 "nbformat_minor": 2
}
