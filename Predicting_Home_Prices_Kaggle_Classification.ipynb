{
 "cells": [
  {
   "cell_type": "markdown",
   "metadata": {},
   "source": [
    "# Importing all the needed Libraries"
   ]
  },
  {
   "cell_type": "code",
   "execution_count": 185,
   "metadata": {},
   "outputs": [],
   "source": [
    "'''Importing Numpy and Pandas'''\n",
    "import numpy as np \n",
    "import pandas as pd \n",
    "\n",
    "'''Machine Learning Packages'''\n",
    "from sklearn.cross_validation import cross_val_predict, cross_val_score \n",
    "from sklearn.model_selection import train_test_split, GridSearchCV\n",
    "from sklearn.ensemble import AdaBoostClassifier, AdaBoostRegressor, GradientBoostingClassifier, GradientBoostingRegressor\n",
    "from sklearn.linear_model import LinearRegression,ElasticNetCV, LassoCV, RidgeCV , Ridge, Lasso, LassoLarsIC,  ElasticNet, LogisticRegression\n",
    "from sklearn.metrics import mean_squared_error\n",
    "from sklearn.feature_selection import SelectKBest, RFE, RFECV, SelectPercentile\n",
    "from sklearn.tree import DecisionTreeRegressor\n",
    "from sklearn.feature_selection import SelectPercentile, SelectKBest\n",
    "from sklearn.ensemble import RandomForestRegressor\n",
    "\n",
    "import xgboost as xgb\n",
    "from scipy import stats\n",
    "from scipy.stats import norm, skew \n",
    "\n",
    "\n",
    "\n",
    "'''Preprocessing Packages'''\n",
    "from sklearn.preprocessing import StandardScaler, Imputer, PolynomialFeatures,Binarizer, OneHotEncoder, LabelEncoder\n",
    "\n",
    "\n",
    "'''Plotting Packages'''\n",
    "import seaborn as sns\n",
    "import matplotlib.pyplot as plt \n",
    "%matplotlib inline \n",
    "\n",
    "\n"
   ]
  },
  {
   "cell_type": "code",
   "execution_count": 186,
   "metadata": {
    "collapsed": true
   },
   "outputs": [],
   "source": [
    "'''Intiatiating Standard Scaler'''\n",
    "ss = StandardScaler()"
   ]
  },
  {
   "cell_type": "markdown",
   "metadata": {},
   "source": [
    "# Loading the Test and the Train Datasets"
   ]
  },
  {
   "cell_type": "code",
   "execution_count": 187,
   "metadata": {
    "collapsed": true
   },
   "outputs": [],
   "source": [
    "'''Loading the CSV into the training and the testing dataframe'''\n",
    "train_raw = pd.read_csv('train.csv')\n",
    "test_raw = pd.read_csv('test.csv')"
   ]
  },
  {
   "cell_type": "code",
   "execution_count": 188,
   "metadata": {
    "collapsed": true
   },
   "outputs": [],
   "source": [
    "'''Replacing the spaces in the column names with the _'''\n",
    "train_raw.columns = train_raw.columns.str.replace(' ', '')\n",
    "test_raw.columns = test_raw.columns.str.replace(' ', '')"
   ]
  },
  {
   "cell_type": "markdown",
   "metadata": {},
   "source": [
    "# Preliminary Data Analysis"
   ]
  },
  {
   "cell_type": "code",
   "execution_count": 189,
   "metadata": {},
   "outputs": [
    {
     "data": {
      "text/html": [
       "<div>\n",
       "<style>\n",
       "    .dataframe thead tr:only-child th {\n",
       "        text-align: right;\n",
       "    }\n",
       "\n",
       "    .dataframe thead th {\n",
       "        text-align: left;\n",
       "    }\n",
       "\n",
       "    .dataframe tbody tr th {\n",
       "        vertical-align: top;\n",
       "    }\n",
       "</style>\n",
       "<table border=\"1\" class=\"dataframe\">\n",
       "  <thead>\n",
       "    <tr style=\"text-align: right;\">\n",
       "      <th></th>\n",
       "      <th>Id</th>\n",
       "      <th>PID</th>\n",
       "      <th>MSSubClass</th>\n",
       "      <th>MSZoning</th>\n",
       "      <th>LotFrontage</th>\n",
       "      <th>LotArea</th>\n",
       "      <th>Street</th>\n",
       "      <th>Alley</th>\n",
       "      <th>LotShape</th>\n",
       "      <th>LandContour</th>\n",
       "      <th>...</th>\n",
       "      <th>PoolArea</th>\n",
       "      <th>PoolQC</th>\n",
       "      <th>Fence</th>\n",
       "      <th>MiscFeature</th>\n",
       "      <th>MiscVal</th>\n",
       "      <th>MoSold</th>\n",
       "      <th>YrSold</th>\n",
       "      <th>SaleType</th>\n",
       "      <th>SaleCondition</th>\n",
       "      <th>SalePrice</th>\n",
       "    </tr>\n",
       "  </thead>\n",
       "  <tbody>\n",
       "    <tr>\n",
       "      <th>0</th>\n",
       "      <td>109</td>\n",
       "      <td>533352170</td>\n",
       "      <td>60</td>\n",
       "      <td>RL</td>\n",
       "      <td>NaN</td>\n",
       "      <td>13517</td>\n",
       "      <td>Pave</td>\n",
       "      <td>NaN</td>\n",
       "      <td>IR1</td>\n",
       "      <td>Lvl</td>\n",
       "      <td>...</td>\n",
       "      <td>0</td>\n",
       "      <td>NaN</td>\n",
       "      <td>NaN</td>\n",
       "      <td>NaN</td>\n",
       "      <td>0</td>\n",
       "      <td>3</td>\n",
       "      <td>2010</td>\n",
       "      <td>WD</td>\n",
       "      <td>Normal</td>\n",
       "      <td>130500</td>\n",
       "    </tr>\n",
       "    <tr>\n",
       "      <th>1</th>\n",
       "      <td>544</td>\n",
       "      <td>531379050</td>\n",
       "      <td>60</td>\n",
       "      <td>RL</td>\n",
       "      <td>43.0</td>\n",
       "      <td>11492</td>\n",
       "      <td>Pave</td>\n",
       "      <td>NaN</td>\n",
       "      <td>IR1</td>\n",
       "      <td>Lvl</td>\n",
       "      <td>...</td>\n",
       "      <td>0</td>\n",
       "      <td>NaN</td>\n",
       "      <td>NaN</td>\n",
       "      <td>NaN</td>\n",
       "      <td>0</td>\n",
       "      <td>4</td>\n",
       "      <td>2009</td>\n",
       "      <td>WD</td>\n",
       "      <td>Normal</td>\n",
       "      <td>220000</td>\n",
       "    </tr>\n",
       "  </tbody>\n",
       "</table>\n",
       "<p>2 rows × 82 columns</p>\n",
       "</div>"
      ],
      "text/plain": [
       "    Id        PID  MSSubClass MSZoning  LotFrontage  LotArea Street Alley  \\\n",
       "0  109  533352170          60       RL          NaN    13517   Pave   NaN   \n",
       "1  544  531379050          60       RL         43.0    11492   Pave   NaN   \n",
       "\n",
       "  LotShape LandContour    ...     PoolArea PoolQC Fence MiscFeature MiscVal  \\\n",
       "0      IR1         Lvl    ...            0    NaN   NaN         NaN       0   \n",
       "1      IR1         Lvl    ...            0    NaN   NaN         NaN       0   \n",
       "\n",
       "  MoSold YrSold SaleType  SaleCondition  SalePrice  \n",
       "0      3   2010      WD          Normal     130500  \n",
       "1      4   2009      WD          Normal     220000  \n",
       "\n",
       "[2 rows x 82 columns]"
      ]
     },
     "execution_count": 189,
     "metadata": {},
     "output_type": "execute_result"
    }
   ],
   "source": [
    "'''Validating the training dataset'''\n",
    "train_raw.head(2)"
   ]
  },
  {
   "cell_type": "code",
   "execution_count": 190,
   "metadata": {},
   "outputs": [
    {
     "data": {
      "text/html": [
       "<div>\n",
       "<style>\n",
       "    .dataframe thead tr:only-child th {\n",
       "        text-align: right;\n",
       "    }\n",
       "\n",
       "    .dataframe thead th {\n",
       "        text-align: left;\n",
       "    }\n",
       "\n",
       "    .dataframe tbody tr th {\n",
       "        vertical-align: top;\n",
       "    }\n",
       "</style>\n",
       "<table border=\"1\" class=\"dataframe\">\n",
       "  <thead>\n",
       "    <tr style=\"text-align: right;\">\n",
       "      <th></th>\n",
       "      <th>Id</th>\n",
       "      <th>PID</th>\n",
       "      <th>MSSubClass</th>\n",
       "      <th>MSZoning</th>\n",
       "      <th>LotFrontage</th>\n",
       "      <th>LotArea</th>\n",
       "      <th>Street</th>\n",
       "      <th>Alley</th>\n",
       "      <th>LotShape</th>\n",
       "      <th>LandContour</th>\n",
       "      <th>...</th>\n",
       "      <th>3SsnPorch</th>\n",
       "      <th>ScreenPorch</th>\n",
       "      <th>PoolArea</th>\n",
       "      <th>PoolQC</th>\n",
       "      <th>Fence</th>\n",
       "      <th>MiscFeature</th>\n",
       "      <th>MiscVal</th>\n",
       "      <th>MoSold</th>\n",
       "      <th>YrSold</th>\n",
       "      <th>SaleType</th>\n",
       "    </tr>\n",
       "  </thead>\n",
       "  <tbody>\n",
       "    <tr>\n",
       "      <th>0</th>\n",
       "      <td>2658</td>\n",
       "      <td>902301120</td>\n",
       "      <td>190</td>\n",
       "      <td>RM</td>\n",
       "      <td>69.0</td>\n",
       "      <td>9142</td>\n",
       "      <td>Pave</td>\n",
       "      <td>Grvl</td>\n",
       "      <td>Reg</td>\n",
       "      <td>Lvl</td>\n",
       "      <td>...</td>\n",
       "      <td>0</td>\n",
       "      <td>0</td>\n",
       "      <td>0</td>\n",
       "      <td>NaN</td>\n",
       "      <td>NaN</td>\n",
       "      <td>NaN</td>\n",
       "      <td>0</td>\n",
       "      <td>4</td>\n",
       "      <td>2006</td>\n",
       "      <td>WD</td>\n",
       "    </tr>\n",
       "    <tr>\n",
       "      <th>1</th>\n",
       "      <td>2718</td>\n",
       "      <td>905108090</td>\n",
       "      <td>90</td>\n",
       "      <td>RL</td>\n",
       "      <td>NaN</td>\n",
       "      <td>9662</td>\n",
       "      <td>Pave</td>\n",
       "      <td>NaN</td>\n",
       "      <td>IR1</td>\n",
       "      <td>Lvl</td>\n",
       "      <td>...</td>\n",
       "      <td>0</td>\n",
       "      <td>0</td>\n",
       "      <td>0</td>\n",
       "      <td>NaN</td>\n",
       "      <td>NaN</td>\n",
       "      <td>NaN</td>\n",
       "      <td>0</td>\n",
       "      <td>8</td>\n",
       "      <td>2006</td>\n",
       "      <td>WD</td>\n",
       "    </tr>\n",
       "  </tbody>\n",
       "</table>\n",
       "<p>2 rows × 80 columns</p>\n",
       "</div>"
      ],
      "text/plain": [
       "     Id        PID  MSSubClass MSZoning  LotFrontage  LotArea Street Alley  \\\n",
       "0  2658  902301120         190       RM         69.0     9142   Pave  Grvl   \n",
       "1  2718  905108090          90       RL          NaN     9662   Pave   NaN   \n",
       "\n",
       "  LotShape LandContour    ...    3SsnPorch ScreenPorch PoolArea PoolQC Fence  \\\n",
       "0      Reg         Lvl    ...            0           0        0    NaN   NaN   \n",
       "1      IR1         Lvl    ...            0           0        0    NaN   NaN   \n",
       "\n",
       "  MiscFeature MiscVal MoSold  YrSold  SaleType  \n",
       "0         NaN       0      4    2006       WD   \n",
       "1         NaN       0      8    2006       WD   \n",
       "\n",
       "[2 rows x 80 columns]"
      ]
     },
     "execution_count": 190,
     "metadata": {},
     "output_type": "execute_result"
    }
   ],
   "source": [
    "'''Validating the test dataset'''\n",
    "test_raw.head(2)"
   ]
  },
  {
   "cell_type": "code",
   "execution_count": 191,
   "metadata": {},
   "outputs": [
    {
     "data": {
      "text/html": [
       "<div>\n",
       "<style>\n",
       "    .dataframe thead tr:only-child th {\n",
       "        text-align: right;\n",
       "    }\n",
       "\n",
       "    .dataframe thead th {\n",
       "        text-align: left;\n",
       "    }\n",
       "\n",
       "    .dataframe tbody tr th {\n",
       "        vertical-align: top;\n",
       "    }\n",
       "</style>\n",
       "<table border=\"1\" class=\"dataframe\">\n",
       "  <thead>\n",
       "    <tr style=\"text-align: right;\">\n",
       "      <th></th>\n",
       "      <th>Id</th>\n",
       "      <th>PID</th>\n",
       "      <th>MSSubClass</th>\n",
       "      <th>MSZoning</th>\n",
       "      <th>LotFrontage</th>\n",
       "      <th>LotArea</th>\n",
       "      <th>Street</th>\n",
       "      <th>Alley</th>\n",
       "      <th>LotShape</th>\n",
       "      <th>LandContour</th>\n",
       "      <th>...</th>\n",
       "      <th>PoolQC</th>\n",
       "      <th>Fence</th>\n",
       "      <th>MiscFeature</th>\n",
       "      <th>MiscVal</th>\n",
       "      <th>MoSold</th>\n",
       "      <th>YrSold</th>\n",
       "      <th>SaleType</th>\n",
       "      <th>SaleCondition</th>\n",
       "      <th>SalePrice</th>\n",
       "      <th>source</th>\n",
       "    </tr>\n",
       "  </thead>\n",
       "  <tbody>\n",
       "    <tr>\n",
       "      <th>0</th>\n",
       "      <td>109</td>\n",
       "      <td>533352170</td>\n",
       "      <td>60</td>\n",
       "      <td>RL</td>\n",
       "      <td>NaN</td>\n",
       "      <td>13517</td>\n",
       "      <td>Pave</td>\n",
       "      <td>NaN</td>\n",
       "      <td>IR1</td>\n",
       "      <td>Lvl</td>\n",
       "      <td>...</td>\n",
       "      <td>NaN</td>\n",
       "      <td>NaN</td>\n",
       "      <td>NaN</td>\n",
       "      <td>0</td>\n",
       "      <td>3</td>\n",
       "      <td>2010</td>\n",
       "      <td>WD</td>\n",
       "      <td>Normal</td>\n",
       "      <td>130500</td>\n",
       "      <td>Train</td>\n",
       "    </tr>\n",
       "    <tr>\n",
       "      <th>1</th>\n",
       "      <td>544</td>\n",
       "      <td>531379050</td>\n",
       "      <td>60</td>\n",
       "      <td>RL</td>\n",
       "      <td>43.0</td>\n",
       "      <td>11492</td>\n",
       "      <td>Pave</td>\n",
       "      <td>NaN</td>\n",
       "      <td>IR1</td>\n",
       "      <td>Lvl</td>\n",
       "      <td>...</td>\n",
       "      <td>NaN</td>\n",
       "      <td>NaN</td>\n",
       "      <td>NaN</td>\n",
       "      <td>0</td>\n",
       "      <td>4</td>\n",
       "      <td>2009</td>\n",
       "      <td>WD</td>\n",
       "      <td>Normal</td>\n",
       "      <td>220000</td>\n",
       "      <td>Train</td>\n",
       "    </tr>\n",
       "  </tbody>\n",
       "</table>\n",
       "<p>2 rows × 83 columns</p>\n",
       "</div>"
      ],
      "text/plain": [
       "    Id        PID  MSSubClass MSZoning  LotFrontage  LotArea Street Alley  \\\n",
       "0  109  533352170          60       RL          NaN    13517   Pave   NaN   \n",
       "1  544  531379050          60       RL         43.0    11492   Pave   NaN   \n",
       "\n",
       "  LotShape LandContour   ...   PoolQC Fence MiscFeature MiscVal MoSold YrSold  \\\n",
       "0      IR1         Lvl   ...      NaN   NaN         NaN       0      3   2010   \n",
       "1      IR1         Lvl   ...      NaN   NaN         NaN       0      4   2009   \n",
       "\n",
       "  SaleType SaleCondition  SalePrice  source  \n",
       "0      WD         Normal     130500   Train  \n",
       "1      WD         Normal     220000   Train  \n",
       "\n",
       "[2 rows x 83 columns]"
      ]
     },
     "execution_count": 191,
     "metadata": {},
     "output_type": "execute_result"
    }
   ],
   "source": [
    "'''Adding a source column in the training dataset'''\n",
    "\n",
    "train_raw['source'] = 'Train'\n",
    "train_raw.head(2)"
   ]
  },
  {
   "cell_type": "code",
   "execution_count": 192,
   "metadata": {},
   "outputs": [
    {
     "data": {
      "text/html": [
       "<div>\n",
       "<style>\n",
       "    .dataframe thead tr:only-child th {\n",
       "        text-align: right;\n",
       "    }\n",
       "\n",
       "    .dataframe thead th {\n",
       "        text-align: left;\n",
       "    }\n",
       "\n",
       "    .dataframe tbody tr th {\n",
       "        vertical-align: top;\n",
       "    }\n",
       "</style>\n",
       "<table border=\"1\" class=\"dataframe\">\n",
       "  <thead>\n",
       "    <tr style=\"text-align: right;\">\n",
       "      <th></th>\n",
       "      <th>Id</th>\n",
       "      <th>PID</th>\n",
       "      <th>MSSubClass</th>\n",
       "      <th>MSZoning</th>\n",
       "      <th>LotFrontage</th>\n",
       "      <th>LotArea</th>\n",
       "      <th>Street</th>\n",
       "      <th>Alley</th>\n",
       "      <th>LotShape</th>\n",
       "      <th>LandContour</th>\n",
       "      <th>...</th>\n",
       "      <th>ScreenPorch</th>\n",
       "      <th>PoolArea</th>\n",
       "      <th>PoolQC</th>\n",
       "      <th>Fence</th>\n",
       "      <th>MiscFeature</th>\n",
       "      <th>MiscVal</th>\n",
       "      <th>MoSold</th>\n",
       "      <th>YrSold</th>\n",
       "      <th>SaleType</th>\n",
       "      <th>source</th>\n",
       "    </tr>\n",
       "  </thead>\n",
       "  <tbody>\n",
       "    <tr>\n",
       "      <th>0</th>\n",
       "      <td>2658</td>\n",
       "      <td>902301120</td>\n",
       "      <td>190</td>\n",
       "      <td>RM</td>\n",
       "      <td>69.0</td>\n",
       "      <td>9142</td>\n",
       "      <td>Pave</td>\n",
       "      <td>Grvl</td>\n",
       "      <td>Reg</td>\n",
       "      <td>Lvl</td>\n",
       "      <td>...</td>\n",
       "      <td>0</td>\n",
       "      <td>0</td>\n",
       "      <td>NaN</td>\n",
       "      <td>NaN</td>\n",
       "      <td>NaN</td>\n",
       "      <td>0</td>\n",
       "      <td>4</td>\n",
       "      <td>2006</td>\n",
       "      <td>WD</td>\n",
       "      <td>Test</td>\n",
       "    </tr>\n",
       "    <tr>\n",
       "      <th>1</th>\n",
       "      <td>2718</td>\n",
       "      <td>905108090</td>\n",
       "      <td>90</td>\n",
       "      <td>RL</td>\n",
       "      <td>NaN</td>\n",
       "      <td>9662</td>\n",
       "      <td>Pave</td>\n",
       "      <td>NaN</td>\n",
       "      <td>IR1</td>\n",
       "      <td>Lvl</td>\n",
       "      <td>...</td>\n",
       "      <td>0</td>\n",
       "      <td>0</td>\n",
       "      <td>NaN</td>\n",
       "      <td>NaN</td>\n",
       "      <td>NaN</td>\n",
       "      <td>0</td>\n",
       "      <td>8</td>\n",
       "      <td>2006</td>\n",
       "      <td>WD</td>\n",
       "      <td>Test</td>\n",
       "    </tr>\n",
       "  </tbody>\n",
       "</table>\n",
       "<p>2 rows × 81 columns</p>\n",
       "</div>"
      ],
      "text/plain": [
       "     Id        PID  MSSubClass MSZoning  LotFrontage  LotArea Street Alley  \\\n",
       "0  2658  902301120         190       RM         69.0     9142   Pave  Grvl   \n",
       "1  2718  905108090          90       RL          NaN     9662   Pave   NaN   \n",
       "\n",
       "  LotShape LandContour   ...   ScreenPorch PoolArea PoolQC Fence MiscFeature  \\\n",
       "0      Reg         Lvl   ...             0        0    NaN   NaN         NaN   \n",
       "1      IR1         Lvl   ...             0        0    NaN   NaN         NaN   \n",
       "\n",
       "  MiscVal MoSold YrSold  SaleType  source  \n",
       "0       0      4   2006       WD     Test  \n",
       "1       0      8   2006       WD     Test  \n",
       "\n",
       "[2 rows x 81 columns]"
      ]
     },
     "execution_count": 192,
     "metadata": {},
     "output_type": "execute_result"
    }
   ],
   "source": [
    "'''Adding a source column in the test dataset'''\n",
    "\n",
    "test_raw['source'] = 'Test'\n",
    "test_raw.head(2)"
   ]
  },
  {
   "cell_type": "markdown",
   "metadata": {},
   "source": [
    "# Data Conversion"
   ]
  },
  {
   "cell_type": "code",
   "execution_count": 193,
   "metadata": {
    "collapsed": true
   },
   "outputs": [],
   "source": [
    "'''Converting MSSubClass, OverallCond, Year Sold, Month Sold to String'''\n",
    "\n",
    "train_raw['MSSubClass'] = train_raw['MSSubClass'].astype(str)\n",
    "test_raw['MSSubClass'] = test_raw['MSSubClass'].astype(str)\n",
    "\n",
    "\n",
    "train_raw['OverallCond'] = train_raw['OverallCond'].astype(str)\n",
    "test_raw['OverallCond'] = test_raw['OverallCond'].astype(str)\n",
    "\n",
    "train_raw['YrSold'] = train_raw['YrSold'].astype(str)\n",
    "test_raw['YrSold'] = test_raw['YrSold'].astype(str)\n",
    "\n",
    "train_raw['MoSold'] = train_raw['MoSold'].astype(str)\n",
    "test_raw['MoSold'] = test_raw['MoSold'].astype(str)"
   ]
  },
  {
   "cell_type": "code",
   "execution_count": null,
   "metadata": {
    "collapsed": true
   },
   "outputs": [],
   "source": []
  },
  {
   "cell_type": "code",
   "execution_count": 194,
   "metadata": {},
   "outputs": [
    {
     "data": {
      "text/html": [
       "<div>\n",
       "<style>\n",
       "    .dataframe thead tr:only-child th {\n",
       "        text-align: right;\n",
       "    }\n",
       "\n",
       "    .dataframe thead th {\n",
       "        text-align: left;\n",
       "    }\n",
       "\n",
       "    .dataframe tbody tr th {\n",
       "        vertical-align: top;\n",
       "    }\n",
       "</style>\n",
       "<table border=\"1\" class=\"dataframe\">\n",
       "  <thead>\n",
       "    <tr style=\"text-align: right;\">\n",
       "      <th></th>\n",
       "      <th>1stFlrSF</th>\n",
       "      <th>2ndFlrSF</th>\n",
       "      <th>3SsnPorch</th>\n",
       "      <th>Alley</th>\n",
       "      <th>BedroomAbvGr</th>\n",
       "      <th>BldgType</th>\n",
       "      <th>BsmtCond</th>\n",
       "      <th>BsmtExposure</th>\n",
       "      <th>BsmtFinSF1</th>\n",
       "      <th>BsmtFinSF2</th>\n",
       "      <th>...</th>\n",
       "      <th>ScreenPorch</th>\n",
       "      <th>Street</th>\n",
       "      <th>TotRmsAbvGrd</th>\n",
       "      <th>TotalBsmtSF</th>\n",
       "      <th>Utilities</th>\n",
       "      <th>WoodDeckSF</th>\n",
       "      <th>YearBuilt</th>\n",
       "      <th>YearRemod/Add</th>\n",
       "      <th>YrSold</th>\n",
       "      <th>source</th>\n",
       "    </tr>\n",
       "  </thead>\n",
       "  <tbody>\n",
       "    <tr>\n",
       "      <th>0</th>\n",
       "      <td>725</td>\n",
       "      <td>754</td>\n",
       "      <td>0</td>\n",
       "      <td>NaN</td>\n",
       "      <td>3</td>\n",
       "      <td>1Fam</td>\n",
       "      <td>TA</td>\n",
       "      <td>No</td>\n",
       "      <td>533.0</td>\n",
       "      <td>0.0</td>\n",
       "      <td>...</td>\n",
       "      <td>0</td>\n",
       "      <td>Pave</td>\n",
       "      <td>6</td>\n",
       "      <td>725.0</td>\n",
       "      <td>AllPub</td>\n",
       "      <td>0</td>\n",
       "      <td>1976</td>\n",
       "      <td>2005</td>\n",
       "      <td>2010</td>\n",
       "      <td>Train</td>\n",
       "    </tr>\n",
       "    <tr>\n",
       "      <th>1</th>\n",
       "      <td>913</td>\n",
       "      <td>1209</td>\n",
       "      <td>0</td>\n",
       "      <td>NaN</td>\n",
       "      <td>4</td>\n",
       "      <td>1Fam</td>\n",
       "      <td>TA</td>\n",
       "      <td>No</td>\n",
       "      <td>637.0</td>\n",
       "      <td>0.0</td>\n",
       "      <td>...</td>\n",
       "      <td>0</td>\n",
       "      <td>Pave</td>\n",
       "      <td>8</td>\n",
       "      <td>913.0</td>\n",
       "      <td>AllPub</td>\n",
       "      <td>0</td>\n",
       "      <td>1996</td>\n",
       "      <td>1997</td>\n",
       "      <td>2009</td>\n",
       "      <td>Train</td>\n",
       "    </tr>\n",
       "  </tbody>\n",
       "</table>\n",
       "<p>2 rows × 83 columns</p>\n",
       "</div>"
      ],
      "text/plain": [
       "   1stFlrSF  2ndFlrSF  3SsnPorch Alley  BedroomAbvGr BldgType BsmtCond  \\\n",
       "0       725       754          0   NaN             3     1Fam       TA   \n",
       "1       913      1209          0   NaN             4     1Fam       TA   \n",
       "\n",
       "  BsmtExposure  BsmtFinSF1  BsmtFinSF2  ...   ScreenPorch Street  \\\n",
       "0           No       533.0         0.0  ...             0   Pave   \n",
       "1           No       637.0         0.0  ...             0   Pave   \n",
       "\n",
       "   TotRmsAbvGrd  TotalBsmtSF Utilities  WoodDeckSF YearBuilt YearRemod/Add  \\\n",
       "0             6        725.0    AllPub           0      1976          2005   \n",
       "1             8        913.0    AllPub           0      1996          1997   \n",
       "\n",
       "  YrSold source  \n",
       "0   2010  Train  \n",
       "1   2009  Train  \n",
       "\n",
       "[2 rows x 83 columns]"
      ]
     },
     "execution_count": 194,
     "metadata": {},
     "output_type": "execute_result"
    }
   ],
   "source": [
    "'''Merging the Training and the Test Dataset before creating the dummies'''\n",
    "train_test_merged = train_raw.append(test_raw)\n",
    "train_test_merged.head(2)"
   ]
  },
  {
   "cell_type": "code",
   "execution_count": 195,
   "metadata": {},
   "outputs": [
    {
     "data": {
      "text/plain": [
       "Train    2051\n",
       "Test      879\n",
       "Name: source, dtype: int64"
      ]
     },
     "execution_count": 195,
     "metadata": {},
     "output_type": "execute_result"
    }
   ],
   "source": [
    "'''\n",
    "Validating the count of the Train and Test Records in the Merged Dataframe \n",
    "Note: This column was added manually to deal with the mutually exclusive class categories in the training and the test dataset\n",
    "'''\n",
    "train_test_merged.source.value_counts()"
   ]
  },
  {
   "cell_type": "code",
   "execution_count": 196,
   "metadata": {},
   "outputs": [],
   "source": [
    "'''Transforming the SaleCondition'''\n",
    "train_test_merged['SaleCondition'] = train_test_merged['SaleCondition'].apply(lambda x: 1 if x =='Abnorml' else 0)"
   ]
  },
  {
   "cell_type": "markdown",
   "metadata": {},
   "source": [
    "# Shape Validation"
   ]
  },
  {
   "cell_type": "code",
   "execution_count": 197,
   "metadata": {},
   "outputs": [
    {
     "name": "stdout",
     "output_type": "stream",
     "text": [
      "Training Shape:  (2051, 83)\n",
      "Testing Shape:  (879, 81)\n",
      "Merge Shape:  (2930, 83)\n"
     ]
    }
   ],
   "source": [
    "'''Validating the Raw Shape of the Training, Test and the Merged Dataframes'''\n",
    "\n",
    "print ('Training Shape: ', train_raw.shape)\n",
    "print ('Testing Shape: ', test_raw.shape)\n",
    "print ('Merge Shape: ', train_test_merged.shape)"
   ]
  },
  {
   "cell_type": "markdown",
   "metadata": {},
   "source": [
    "# Reviewing the list of non-null columns in the dataset"
   ]
  },
  {
   "cell_type": "code",
   "execution_count": 198,
   "metadata": {},
   "outputs": [
    {
     "name": "stdout",
     "output_type": "stream",
     "text": [
      "<class 'pandas.core.frame.DataFrame'>\n",
      "Int64Index: 2930 entries, 0 to 878\n",
      "Data columns (total 83 columns):\n",
      "1stFlrSF         2930 non-null int64\n",
      "2ndFlrSF         2930 non-null int64\n",
      "3SsnPorch        2930 non-null int64\n",
      "Alley            198 non-null object\n",
      "BedroomAbvGr     2930 non-null int64\n",
      "BldgType         2930 non-null object\n",
      "BsmtCond         2850 non-null object\n",
      "BsmtExposure     2847 non-null object\n",
      "BsmtFinSF1       2929 non-null float64\n",
      "BsmtFinSF2       2929 non-null float64\n",
      "BsmtFinType1     2850 non-null object\n",
      "BsmtFinType2     2849 non-null object\n",
      "BsmtFullBath     2928 non-null float64\n",
      "BsmtHalfBath     2928 non-null float64\n",
      "BsmtQual         2850 non-null object\n",
      "BsmtUnfSF        2929 non-null float64\n",
      "CentralAir       2930 non-null object\n",
      "Condition1       2930 non-null object\n",
      "Condition2       2930 non-null object\n",
      "Electrical       2929 non-null object\n",
      "EnclosedPorch    2930 non-null int64\n",
      "ExterCond        2930 non-null object\n",
      "ExterQual        2930 non-null object\n",
      "Exterior1st      2930 non-null object\n",
      "Exterior2nd      2930 non-null object\n",
      "Fence            572 non-null object\n",
      "FireplaceQu      1508 non-null object\n",
      "Fireplaces       2930 non-null int64\n",
      "Foundation       2930 non-null object\n",
      "FullBath         2930 non-null int64\n",
      "Functional       2930 non-null object\n",
      "GarageArea       2929 non-null float64\n",
      "GarageCars       2929 non-null float64\n",
      "GarageCond       2771 non-null object\n",
      "GarageFinish     2771 non-null object\n",
      "GarageQual       2771 non-null object\n",
      "GarageType       2773 non-null object\n",
      "GarageYrBlt      2771 non-null float64\n",
      "GrLivArea        2930 non-null int64\n",
      "HalfBath         2930 non-null int64\n",
      "Heating          2930 non-null object\n",
      "HeatingQC        2930 non-null object\n",
      "HouseStyle       2930 non-null object\n",
      "Id               2930 non-null int64\n",
      "KitchenAbvGr     2930 non-null int64\n",
      "KitchenQual      2930 non-null object\n",
      "LandContour      2930 non-null object\n",
      "LandSlope        2930 non-null object\n",
      "LotArea          2930 non-null int64\n",
      "LotConfig        2930 non-null object\n",
      "LotFrontage      2440 non-null float64\n",
      "LotShape         2930 non-null object\n",
      "LowQualFinSF     2930 non-null int64\n",
      "MSSubClass       2930 non-null object\n",
      "MSZoning         2930 non-null object\n",
      "MasVnrArea       2907 non-null float64\n",
      "MasVnrType       2907 non-null object\n",
      "MiscFeature      106 non-null object\n",
      "MiscVal          2930 non-null int64\n",
      "MoSold           2930 non-null object\n",
      "Neighborhood     2930 non-null object\n",
      "OpenPorchSF      2930 non-null int64\n",
      "OverallCond      2930 non-null object\n",
      "OverallQual      2930 non-null int64\n",
      "PID              2930 non-null int64\n",
      "PavedDrive       2930 non-null object\n",
      "PoolArea         2930 non-null int64\n",
      "PoolQC           13 non-null object\n",
      "RoofMatl         2930 non-null object\n",
      "RoofStyle        2930 non-null object\n",
      "SaleCondition    2930 non-null int64\n",
      "SalePrice        2051 non-null float64\n",
      "SaleType         2930 non-null object\n",
      "ScreenPorch      2930 non-null int64\n",
      "Street           2930 non-null object\n",
      "TotRmsAbvGrd     2930 non-null int64\n",
      "TotalBsmtSF      2929 non-null float64\n",
      "Utilities        2930 non-null object\n",
      "WoodDeckSF       2930 non-null int64\n",
      "YearBuilt        2930 non-null int64\n",
      "YearRemod/Add    2930 non-null int64\n",
      "YrSold           2930 non-null object\n",
      "source           2930 non-null object\n",
      "dtypes: float64(12), int64(24), object(47)\n",
      "memory usage: 1.9+ MB\n"
     ]
    }
   ],
   "source": [
    "train_test_merged.info()"
   ]
  },
  {
   "cell_type": "markdown",
   "metadata": {},
   "source": [
    "Right away we noticed that there are handful of columns that have null values. This will require some level of handling (e.g. Imputation)"
   ]
  },
  {
   "cell_type": "code",
   "execution_count": 199,
   "metadata": {},
   "outputs": [],
   "source": [
    "'''Dropping columns that have very little non-null values '''\n",
    "\n",
    "cols_not_needed_for_regression = ['Alley', 'Fence', 'PoolQC', 'MiscFeature']\n",
    "train_test_merged.drop(cols_not_needed_for_regression,axis = 1, inplace=True)"
   ]
  },
  {
   "cell_type": "markdown",
   "metadata": {},
   "source": [
    "# Initial Review of the Correlation of the predictor variables with the Target Variables"
   ]
  },
  {
   "cell_type": "code",
   "execution_count": 200,
   "metadata": {},
   "outputs": [
    {
     "data": {
      "text/plain": [
       "['LotFrontage',\n",
       " 'LotArea',\n",
       " 'OverallQual',\n",
       " 'YearBuilt',\n",
       " 'YearRemod/Add',\n",
       " 'MasVnrArea',\n",
       " 'BsmtFinSF1',\n",
       " 'BsmtFinSF2',\n",
       " 'BsmtUnfSF',\n",
       " 'TotalBsmtSF',\n",
       " '1stFlrSF',\n",
       " '2ndFlrSF',\n",
       " 'GrLivArea',\n",
       " 'BsmtFullBath',\n",
       " 'FullBath',\n",
       " 'HalfBath',\n",
       " 'BedroomAbvGr',\n",
       " 'TotRmsAbvGrd',\n",
       " 'Fireplaces',\n",
       " 'GarageYrBlt',\n",
       " 'GarageCars',\n",
       " 'GarageArea',\n",
       " 'WoodDeckSF',\n",
       " 'OpenPorchSF',\n",
       " '3SsnPorch',\n",
       " 'ScreenPorch',\n",
       " 'PoolArea']"
      ]
     },
     "execution_count": 200,
     "metadata": {},
     "output_type": "execute_result"
    }
   ],
   "source": [
    "'''Code below looks at the correlation of the individual predictor variables with the target variables, and also lists out the predictors that have a positive correlation with the target variables'''\n",
    "\n",
    "traindata_corr = train_raw.corr()['SalePrice'][:-1]\n",
    "positively_corelated = traindata_corr[traindata_corr.sort_values(ascending=False)>0]\n",
    "positively_corelated_columns= list(positively_corelated.index)\n",
    "positively_corelated_columns"
   ]
  },
  {
   "cell_type": "markdown",
   "metadata": {},
   "source": [
    "# List of Predictors that have a high level of correlation with the target Variables"
   ]
  },
  {
   "cell_type": "code",
   "execution_count": 201,
   "metadata": {},
   "outputs": [
    {
     "data": {
      "text/plain": [
       "OverallQual      0.800207\n",
       "GrLivArea        0.697038\n",
       "GarageArea       0.650270\n",
       "GarageCars       0.648220\n",
       "TotalBsmtSF      0.628925\n",
       "1stFlrSF         0.618486\n",
       "YearBuilt        0.571849\n",
       "YearRemod/Add    0.550370\n",
       "FullBath         0.537969\n",
       "GarageYrBlt      0.533922\n",
       "MasVnrArea       0.512230\n",
       "TotRmsAbvGrd     0.504014\n",
       "Fireplaces       0.471093\n",
       "BsmtFinSF1       0.423519\n",
       "LotFrontage      0.341842\n",
       "OpenPorchSF      0.333476\n",
       "WoodDeckSF       0.326490\n",
       "LotArea          0.296566\n",
       "BsmtFullBath     0.283662\n",
       "HalfBath         0.283001\n",
       "2ndFlrSF         0.248452\n",
       "BsmtUnfSF        0.190210\n",
       "BedroomAbvGr     0.137067\n",
       "ScreenPorch      0.134581\n",
       "3SsnPorch        0.048732\n",
       "PoolArea         0.023106\n",
       "BsmtFinSF2       0.016255\n",
       "Name: SalePrice, dtype: float64"
      ]
     },
     "execution_count": 201,
     "metadata": {},
     "output_type": "execute_result"
    }
   ],
   "source": [
    "positively_corelated.sort_values(ascending=False)"
   ]
  },
  {
   "cell_type": "code",
   "execution_count": 202,
   "metadata": {},
   "outputs": [
    {
     "data": {
      "text/plain": [
       "<matplotlib.text.Text at 0x117394908>"
      ]
     },
     "execution_count": 202,
     "metadata": {},
     "output_type": "execute_result"
    },
    {
     "data": {
      "image/png": "[encoded data removed]",
      "text/plain": [
       "<matplotlib.figure.Figure at 0x11c76b9e8>"
      ]
     },
     "metadata": {},
     "output_type": "display_data"
    }
   ],
   "source": [
    "plt.figure(figsize=(12,8))\n",
    "\n",
    "mask = np.zeros_like(train_raw.corr(), dtype=np.bool)\n",
    "mask[np.triu_indices_from(mask)] = True\n",
    "\n",
    "sns.heatmap(train_raw.corr(), mask = mask)\n",
    "plt.title('Correlaltion Matrix for Salea Price with other Predictors')"
   ]
  },
  {
   "cell_type": "markdown",
   "metadata": {},
   "source": [
    "Based on quick review, we see that the SalePrice is highly correlated to OverallQual and GrLivArea. As a part of the EDA, we are also going to review this phenomenon with some scatter plots"
   ]
  },
  {
   "cell_type": "markdown",
   "metadata": {},
   "source": [
    "# List of Predictors which are negatively Correlated"
   ]
  },
  {
   "cell_type": "code",
   "execution_count": 203,
   "metadata": {},
   "outputs": [
    {
     "data": {
      "text/plain": [
       "['Id',\n",
       " 'PID',\n",
       " 'LowQualFinSF',\n",
       " 'BsmtHalfBath',\n",
       " 'KitchenAbvGr',\n",
       " 'EnclosedPorch',\n",
       " 'MiscVal']"
      ]
     },
     "execution_count": 203,
     "metadata": {},
     "output_type": "execute_result"
    }
   ],
   "source": [
    "negatively_correlated = traindata_corr[traindata_corr.sort_values(ascending=False)<=0]\n",
    "negatively_correlated_columns= list(negatively_correlated.index)\n",
    "negatively_correlated_columns"
   ]
  },
  {
   "cell_type": "markdown",
   "metadata": {},
   "source": [
    "# Reviewing the negatively correlated coefficients"
   ]
  },
  {
   "cell_type": "code",
   "execution_count": 204,
   "metadata": {},
   "outputs": [
    {
     "data": {
      "text/plain": [
       "Id              -0.051398\n",
       "PID             -0.255052\n",
       "LowQualFinSF    -0.041594\n",
       "BsmtHalfBath    -0.045328\n",
       "KitchenAbvGr    -0.125444\n",
       "EnclosedPorch   -0.135656\n",
       "MiscVal         -0.007375\n",
       "Name: SalePrice, dtype: float64"
      ]
     },
     "execution_count": 204,
     "metadata": {},
     "output_type": "execute_result"
    }
   ],
   "source": [
    "traindata_corr[traindata_corr.sort_values(ascending=False)<=0]"
   ]
  },
  {
   "cell_type": "markdown",
   "metadata": {},
   "source": [
    "# Performing some basic EDA on the SalePrice "
   ]
  },
  {
   "cell_type": "code",
   "execution_count": 205,
   "metadata": {},
   "outputs": [
    {
     "data": {
      "text/plain": [
       "<matplotlib.text.Text at 0x11718ec88>"
      ]
     },
     "execution_count": 205,
     "metadata": {},
     "output_type": "execute_result"
    },
    {
     "data": {
      "image/png": "[encoded data removed]",
      "text/plain": [
       "<matplotlib.figure.Figure at 0x117391828>"
      ]
     },
     "metadata": {},
     "output_type": "display_data"
    }
   ],
   "source": [
    "sns.distplot(train_raw['SalePrice'], bins=25)\n",
    "plt.ylabel('Frequency')\n",
    "plt.title('Distribution of Saleprice ')"
   ]
  },
  {
   "cell_type": "markdown",
   "metadata": {},
   "source": [
    "We see the the plot of skewed to the left. Hence we might be better of taking the log of the salesprice in our analysis.It will also normalize the curve"
   ]
  },
  {
   "cell_type": "code",
   "execution_count": 206,
   "metadata": {},
   "outputs": [
    {
     "data": {
      "image/png": "[encoded data removed]",
      "text/plain": [
       "<matplotlib.figure.Figure at 0x11bdf6f60>"
      ]
     },
     "metadata": {},
     "output_type": "display_data"
    }
   ],
   "source": [
    "'''Plotting a probability plot to review the plot of SalePrice'''\n",
    "\n",
    "fig = plt.figure()\n",
    "res = stats.probplot(train_raw['SalePrice'], plot=plt)\n",
    "plt.show()"
   ]
  },
  {
   "cell_type": "code",
   "execution_count": 207,
   "metadata": {},
   "outputs": [
    {
     "data": {
      "text/plain": [
       "<matplotlib.text.Text at 0x11cd979b0>"
      ]
     },
     "execution_count": 207,
     "metadata": {},
     "output_type": "execute_result"
    },
    {
     "data": {
      "image/png": "[encoded data removed]",
      "text/plain": [
       "<matplotlib.figure.Figure at 0x11cd64438>"
      ]
     },
     "metadata": {},
     "output_type": "display_data"
    }
   ],
   "source": [
    "'''Plotting the Distplot for Salesprice using the log values'''\n",
    "\n",
    "sns.distplot(np.log1p(train_raw['SalePrice']), bins=25)\n",
    "plt.ylabel('Frequency')\n",
    "plt.title('Distribution of Saleprice ')"
   ]
  },
  {
   "cell_type": "markdown",
   "metadata": {},
   "source": [
    "# Scatter Plot:  \"OverallQual\" and \"SalesPrice\""
   ]
  },
  {
   "cell_type": "code",
   "execution_count": 208,
   "metadata": {},
   "outputs": [
    {
     "data": {
      "image/png": "[encoded data removed]",
      "text/plain": [
       "<matplotlib.figure.Figure at 0x11be20c50>"
      ]
     },
     "metadata": {},
     "output_type": "display_data"
    }
   ],
   "source": [
    "fig, ax = plt.subplots()\n",
    "ax.scatter(x = train_raw['OverallQual'], y = train_raw['SalePrice'], color='g')\n",
    "plt.ylabel('SalePrice', fontsize=15)\n",
    "plt.xlabel('OverallQual', fontsize=15)\n",
    "plt.title('SalePrice V/s OverallQual', fontsize = 20)\n",
    "plt.show()"
   ]
  },
  {
   "cell_type": "markdown",
   "metadata": {},
   "source": [
    "# Scatter plot: \"GrLivArea\" v/s \"SalesPrice"
   ]
  },
  {
   "cell_type": "code",
   "execution_count": 209,
   "metadata": {},
   "outputs": [
    {
     "data": {
      "image/png": "[encoded data removed]",
      "text/plain": [
       "<matplotlib.figure.Figure at 0x11cd6bf60>"
      ]
     },
     "metadata": {},
     "output_type": "display_data"
    }
   ],
   "source": [
    "fig, ax = plt.subplots()\n",
    "ax.scatter(x = train_raw['GrLivArea'], y = train_raw['SalePrice'], color='g')\n",
    "plt.ylabel('SalePrice', fontsize=15)\n",
    "plt.xlabel('GrLivArea', fontsize=15)\n",
    "plt.title('SalePrice V/s GrLivArea', fontsize = 20)\n",
    "plt.show()"
   ]
  },
  {
   "cell_type": "markdown",
   "metadata": {},
   "source": [
    "In the plot above we see that there are two values where GrLivArea is greater than 5000 but the sale price is very low. These looks like outliers. For the purposes of this analysis we are going to delete this data"
   ]
  },
  {
   "cell_type": "code",
   "execution_count": 210,
   "metadata": {
    "collapsed": true
   },
   "outputs": [],
   "source": [
    "'''Deleting the Outlier Data'''\n",
    "\n",
    "train_test_merged = train_test_merged.drop(train_test_merged[(train_test_merged['GrLivArea']>4000) & (train_test_merged['SalePrice']<300000)].index)"
   ]
  },
  {
   "cell_type": "markdown",
   "metadata": {},
   "source": [
    "# Column Processing"
   ]
  },
  {
   "cell_type": "code",
   "execution_count": 211,
   "metadata": {
    "collapsed": true
   },
   "outputs": [],
   "source": [
    "'''Dropping columns that have negative correlations '''\n",
    "\n",
    "train_test_merged.drop(negatively_correlated_columns,axis = 1, inplace=True)"
   ]
  },
  {
   "cell_type": "markdown",
   "metadata": {},
   "source": [
    "This step is necessary to confirm/validate that all the data manipulations has not convulated the dataset. We notice that, the test dataset has two columns less. This is because the test dataset does not contain the SalePrice and the SaleCondition"
   ]
  },
  {
   "cell_type": "markdown",
   "metadata": {},
   "source": [
    "# List of Null Columns"
   ]
  },
  {
   "cell_type": "code",
   "execution_count": 212,
   "metadata": {},
   "outputs": [
    {
     "data": {
      "text/plain": [
       "['BsmtCond',\n",
       " 'BsmtExposure',\n",
       " 'BsmtFinSF1',\n",
       " 'BsmtFinSF2',\n",
       " 'BsmtFinType1',\n",
       " 'BsmtFinType2',\n",
       " 'BsmtFullBath',\n",
       " 'BsmtQual',\n",
       " 'BsmtUnfSF',\n",
       " 'Electrical',\n",
       " 'FireplaceQu',\n",
       " 'GarageArea',\n",
       " 'GarageCars',\n",
       " 'GarageCond',\n",
       " 'GarageFinish',\n",
       " 'GarageQual',\n",
       " 'GarageType',\n",
       " 'GarageYrBlt',\n",
       " 'LotFrontage',\n",
       " 'MasVnrArea',\n",
       " 'MasVnrType',\n",
       " 'SalePrice',\n",
       " 'TotalBsmtSF']"
      ]
     },
     "execution_count": 212,
     "metadata": {},
     "output_type": "execute_result"
    }
   ],
   "source": [
    "'''Retrieving the list of null columns from the merged Dataset'''\n",
    "\n",
    "null_col_list = list(train_test_merged.columns[train_test_merged.isnull().sum()>0])\n",
    "null_col_list"
   ]
  },
  {
   "cell_type": "markdown",
   "metadata": {},
   "source": [
    "# Total Count of Null Columns"
   ]
  },
  {
   "cell_type": "code",
   "execution_count": 213,
   "metadata": {},
   "outputs": [
    {
     "name": "stdout",
     "output_type": "stream",
     "text": [
      "Number of Null Columns:  23\n"
     ]
    }
   ],
   "source": [
    "'''Getting the count of total number of null columns'''\n",
    "print ('Number of Null Columns: ', len(null_col_list))"
   ]
  },
  {
   "cell_type": "markdown",
   "metadata": {},
   "source": [
    "# Total Count of Numeric and Non-Numeric Columns"
   ]
  },
  {
   "cell_type": "code",
   "execution_count": 214,
   "metadata": {
    "collapsed": true
   },
   "outputs": [],
   "source": [
    "# '''This step is to count the number of the Numeric and Non-Numeric columns'''\n",
    "# object_col_count = 0 \n",
    "# numeric_col_count = 0 \n",
    "\n",
    "\n",
    "# for col_type in train_test_merged.dtypes: \n",
    "#     if col_type ==np.object: \n",
    "#         object_col_count += 1 \n",
    "#     elif col_type == np.int64 or col_type == np.float64: \n",
    "#         numeric_col_count += 1\n",
    "#     else: \n",
    "#         continue\n",
    "\n",
    "# print ('Object Col Count: ', object_col_count)\n",
    "# print ('Numberic Col Count: ', numeric_col_count)"
   ]
  },
  {
   "cell_type": "code",
   "execution_count": 215,
   "metadata": {},
   "outputs": [
    {
     "name": "stdout",
     "output_type": "stream",
     "text": [
      "Columns of type Object:\n",
      "\n",
      " ['BldgType', 'BsmtCond', 'BsmtExposure', 'BsmtFinType1', 'BsmtFinType2', 'BsmtQual', 'CentralAir', 'Condition1', 'Condition2', 'Electrical', 'ExterCond', 'ExterQual', 'Exterior1st', 'Exterior2nd', 'FireplaceQu', 'Foundation', 'Functional', 'GarageCond', 'GarageFinish', 'GarageQual', 'GarageType', 'Heating', 'HeatingQC', 'HouseStyle', 'KitchenQual', 'LandContour', 'LandSlope', 'LotConfig', 'LotShape', 'MSSubClass', 'MSZoning', 'MasVnrType', 'MoSold', 'Neighborhood', 'OverallCond', 'PavedDrive', 'RoofMatl', 'RoofStyle', 'SaleType', 'Street', 'Utilities', 'YrSold', 'source']\n",
      "\n",
      "\n",
      "Number of Object Columns:  43\n",
      "\n",
      "\n",
      "Columns of type Int or Float:\n",
      "\n",
      " ['1stFlrSF', '2ndFlrSF', '3SsnPorch', 'BedroomAbvGr', 'BsmtFinSF1', 'BsmtFinSF2', 'BsmtFullBath', 'BsmtUnfSF', 'Fireplaces', 'FullBath', 'GarageArea', 'GarageCars', 'GarageYrBlt', 'GrLivArea', 'HalfBath', 'LotArea', 'LotFrontage', 'MasVnrArea', 'OpenPorchSF', 'OverallQual', 'PoolArea', 'SaleCondition', 'SalePrice', 'ScreenPorch', 'TotRmsAbvGrd', 'TotalBsmtSF', 'WoodDeckSF', 'YearBuilt', 'YearRemod/Add']\n",
      "\n",
      "\n",
      "Number of Numeric Columns:  29\n"
     ]
    }
   ],
   "source": [
    "object_col_list = []\n",
    "numeric_col_list = [] \n",
    "\n",
    "\n",
    "for k,v in enumerate(train_test_merged.dtypes):\n",
    "    if v == np.object: \n",
    "        object_col_list.append(train_test_merged.columns[k])\n",
    "    else: \n",
    "        numeric_col_list.append(train_test_merged.columns[k])\n",
    "\n",
    "print ('Columns of type Object:\\n\\n',  object_col_list)\n",
    "print ('\\n')\n",
    "print ('Number of Object Columns: ', len(object_col_list))\n",
    "print ('\\n')\n",
    "print ('Columns of type Int or Float:\\n\\n',  numeric_col_list)\n",
    "print ('\\n')\n",
    "print ('Number of Numeric Columns: ', len(numeric_col_list))"
   ]
  },
  {
   "cell_type": "markdown",
   "metadata": {},
   "source": [
    "# Null Columns in the Merged Dataframe "
   ]
  },
  {
   "cell_type": "code",
   "execution_count": 216,
   "metadata": {},
   "outputs": [
    {
     "data": {
      "text/plain": [
       "BsmtCond         object\n",
       "BsmtExposure     object\n",
       "BsmtFinSF1      float64\n",
       "BsmtFinSF2      float64\n",
       "BsmtFinType1     object\n",
       "BsmtFinType2     object\n",
       "BsmtFullBath    float64\n",
       "BsmtQual         object\n",
       "BsmtUnfSF       float64\n",
       "Electrical       object\n",
       "FireplaceQu      object\n",
       "GarageArea      float64\n",
       "GarageCars      float64\n",
       "GarageCond       object\n",
       "GarageFinish     object\n",
       "GarageQual       object\n",
       "GarageType       object\n",
       "GarageYrBlt     float64\n",
       "LotFrontage     float64\n",
       "MasVnrArea      float64\n",
       "MasVnrType       object\n",
       "SalePrice       float64\n",
       "TotalBsmtSF     float64\n",
       "dtype: object"
      ]
     },
     "execution_count": 216,
     "metadata": {},
     "output_type": "execute_result"
    }
   ],
   "source": [
    "'''Reviewing the null columns types in the merged dataset'''\n",
    "train_test_merged[null_col_list].dtypes"
   ]
  },
  {
   "cell_type": "markdown",
   "metadata": {},
   "source": [
    "# Function for the Categorical Imputer"
   ]
  },
  {
   "cell_type": "code",
   "execution_count": 217,
   "metadata": {
    "collapsed": true
   },
   "outputs": [],
   "source": [
    "'''Function to impute the categorical columns with the Most Frequent Values'''\n",
    "\n",
    "def categorical_imputer(col):\n",
    "    print ('Null Count in ', '\"',  cols ,'\"',  'column Pre Transform: ' , train_test_merged[col].isnull().sum())\n",
    "    \n",
    "    '''Code to Impute the Mode of the Categorical Variable'''\n",
    "    train_test_merged[col].fillna(value = train_test_merged[col].value_counts().index[0], inplace=True)\n",
    "    \n",
    "#     '''Code to Impute the Value as None (Added this line while testing the model)'''\n",
    "#     train_test_merged[col].fillna(value = \"None\", inplace=True)\n",
    "    \n",
    "    \n",
    "    print ('Null Count in ', '\"',  cols ,'\"',  'column Post Transform: ' , train_test_merged[col].isnull().sum())\n",
    "    print ('\\n')\n",
    "    "
   ]
  },
  {
   "cell_type": "code",
   "execution_count": 218,
   "metadata": {},
   "outputs": [
    {
     "name": "stdout",
     "output_type": "stream",
     "text": [
      "Null Count in  \" BsmtCond \" column Pre Transform:  80\n",
      "Null Count in  \" BsmtCond \" column Post Transform:  0\n",
      "\n",
      "\n",
      "Null Count in  \" BsmtExposure \" column Pre Transform:  83\n",
      "Null Count in  \" BsmtExposure \" column Post Transform:  0\n",
      "\n",
      "\n",
      "Null Count in  \" BsmtFinType1 \" column Pre Transform:  80\n",
      "Null Count in  \" BsmtFinType1 \" column Post Transform:  0\n",
      "\n",
      "\n",
      "Null Count in  \" BsmtFinType2 \" column Pre Transform:  81\n",
      "Null Count in  \" BsmtFinType2 \" column Post Transform:  0\n",
      "\n",
      "\n",
      "Null Count in  \" BsmtQual \" column Pre Transform:  80\n",
      "Null Count in  \" BsmtQual \" column Post Transform:  0\n",
      "\n",
      "\n",
      "Null Count in  \" Electrical \" column Pre Transform:  1\n",
      "Null Count in  \" Electrical \" column Post Transform:  0\n",
      "\n",
      "\n",
      "Null Count in  \" FireplaceQu \" column Pre Transform:  1422\n",
      "Null Count in  \" FireplaceQu \" column Post Transform:  0\n",
      "\n",
      "\n",
      "Null Count in  \" GarageCond \" column Pre Transform:  159\n",
      "Null Count in  \" GarageCond \" column Post Transform:  0\n",
      "\n",
      "\n",
      "Null Count in  \" GarageFinish \" column Pre Transform:  159\n",
      "Null Count in  \" GarageFinish \" column Post Transform:  0\n",
      "\n",
      "\n",
      "Null Count in  \" GarageQual \" column Pre Transform:  159\n",
      "Null Count in  \" GarageQual \" column Post Transform:  0\n",
      "\n",
      "\n",
      "Null Count in  \" GarageType \" column Pre Transform:  157\n",
      "Null Count in  \" GarageType \" column Post Transform:  0\n",
      "\n",
      "\n",
      "Null Count in  \" MasVnrType \" column Pre Transform:  23\n",
      "Null Count in  \" MasVnrType \" column Post Transform:  0\n",
      "\n",
      "\n"
     ]
    }
   ],
   "source": [
    "'''Using the for loop on the null columns and imputing the object columns with the most frequent value'''\n",
    "\n",
    "for cols in null_col_list: \n",
    "    if train_test_merged[cols].dtypes == 'object': \n",
    "        categorical_imputer(cols)"
   ]
  },
  {
   "cell_type": "markdown",
   "metadata": {},
   "source": [
    "**The result above gives the entire list of categorical columns that were imputed using the most frequent value. e also see that the \"FireplaceQu\" column has a lot of null values, we might be better of leaving that value in our analysis**"
   ]
  },
  {
   "cell_type": "code",
   "execution_count": 219,
   "metadata": {},
   "outputs": [
    {
     "data": {
      "text/plain": [
       "Index(['BsmtFinSF1', 'BsmtFinSF2', 'BsmtFullBath', 'BsmtUnfSF', 'GarageArea',\n",
       "       'GarageCars', 'GarageYrBlt', 'LotFrontage', 'MasVnrArea', 'SalePrice',\n",
       "       'TotalBsmtSF'],\n",
       "      dtype='object')"
      ]
     },
     "execution_count": 219,
     "metadata": {},
     "output_type": "execute_result"
    }
   ],
   "source": [
    "'''Validating the remaning null columms'''\n",
    "\n",
    "train_test_merged.columns[train_test_merged.isnull().sum()>0]"
   ]
  },
  {
   "cell_type": "markdown",
   "metadata": {},
   "source": [
    "**On quick review, these look like numerical columns. We are going to impute these columns in the subsequent cells using the median imputer from the Pre-Processing module**"
   ]
  },
  {
   "cell_type": "markdown",
   "metadata": {},
   "source": [
    "# Creating the Dummies for the Categorical Columns"
   ]
  },
  {
   "cell_type": "code",
   "execution_count": 220,
   "metadata": {},
   "outputs": [
    {
     "name": "stdout",
     "output_type": "stream",
     "text": [
      "(2928, 276)\n"
     ]
    }
   ],
   "source": [
    "train_test_merge_dummies = pd.get_dummies(train_test_merged, drop_first=True)\n",
    "print (train_test_merge_dummies.shape)"
   ]
  },
  {
   "cell_type": "code",
   "execution_count": 221,
   "metadata": {
    "collapsed": true
   },
   "outputs": [],
   "source": [
    "cols_to_exclude = ['PID', 'SaleCondition', 'SalePrice', 'Id', 'FireplaceQu']"
   ]
  },
  {
   "cell_type": "code",
   "execution_count": 222,
   "metadata": {
    "collapsed": true
   },
   "outputs": [],
   "source": [
    "# train_test_merged.source.value_counts()"
   ]
  },
  {
   "cell_type": "markdown",
   "metadata": {
    "collapsed": true
   },
   "source": [
    "# Setting the list of columns to be included in the Model Building"
   ]
  },
  {
   "cell_type": "code",
   "execution_count": 223,
   "metadata": {},
   "outputs": [
    {
     "data": {
      "text/plain": [
       "['1stFlrSF', '2ndFlrSF', '3SsnPorch', 'BedroomAbvGr', 'BsmtFinSF1']"
      ]
     },
     "execution_count": 223,
     "metadata": {},
     "output_type": "execute_result"
    }
   ],
   "source": [
    "cols_to_include= []\n",
    "for columns in list(train_test_merge_dummies.columns): \n",
    "    if columns not in cols_to_exclude: \n",
    "        cols_to_include.append(columns)\n",
    "cols_to_include[0:5]"
   ]
  },
  {
   "cell_type": "markdown",
   "metadata": {},
   "source": [
    "The list of columns to be included is stored in the **cols_to_include** list"
   ]
  },
  {
   "cell_type": "markdown",
   "metadata": {},
   "source": [
    "# Validating the list of Null Columns in the Dummied Dataframe"
   ]
  },
  {
   "cell_type": "code",
   "execution_count": 224,
   "metadata": {},
   "outputs": [
    {
     "data": {
      "text/plain": [
       "Index(['BsmtFinSF1', 'BsmtFinSF2', 'BsmtFullBath', 'BsmtUnfSF', 'GarageArea',\n",
       "       'GarageCars', 'GarageYrBlt', 'LotFrontage', 'MasVnrArea', 'SalePrice',\n",
       "       'TotalBsmtSF'],\n",
       "      dtype='object')"
      ]
     },
     "execution_count": 224,
     "metadata": {},
     "output_type": "execute_result"
    }
   ],
   "source": [
    "train_test_merge_dummies.columns[train_test_merge_dummies.isnull().sum()>0]"
   ]
  },
  {
   "cell_type": "markdown",
   "metadata": {},
   "source": [
    "All of the columns are numerical values"
   ]
  },
  {
   "cell_type": "markdown",
   "metadata": {},
   "source": [
    "# Extracting the test and training sets to build the model "
   ]
  },
  {
   "cell_type": "code",
   "execution_count": 225,
   "metadata": {},
   "outputs": [],
   "source": [
    "'''Setting up the Predictors (X) and the Target (Y) variables on the Training Set'''\n",
    "\n",
    "X_new_training_data = train_test_merge_dummies.loc[train_test_merge_dummies['source_Train'] == 1,cols_to_include]\n",
    "\n",
    "y_new_training_data = train_test_merge_dummies.loc[train_test_merge_dummies['source_Train'] == 1,'SaleCondition']\n",
    "\n",
    "#'''Using the log value in our model. We shall do the translation while predicting the final values'''\n",
    "# y_new_training_data = np.log1p(y_new_training_data_mod)\n",
    "\n",
    "X_train, X_test, y_train, y_test = train_test_split(X_new_training_data, y_new_training_data, test_size=0.2)\n",
    "\n",
    "X_new_training_data = X_train\n",
    "y_new_training_data = y_train"
   ]
  },
  {
   "cell_type": "code",
   "execution_count": 226,
   "metadata": {
    "collapsed": true
   },
   "outputs": [],
   "source": [
    "'''Setting up the predictors (X) on the Test Set'''\n",
    "\n",
    "X_new_test_data = train_test_merge_dummies.loc[train_test_merge_dummies['source_Train'] == 0,cols_to_include]"
   ]
  },
  {
   "cell_type": "code",
   "execution_count": 227,
   "metadata": {
    "collapsed": true
   },
   "outputs": [],
   "source": [
    "# X_new_training_data.drop(['GarageYrBlt', 'LotFrontage', 'MasVnrArea','Id'], axis=1, inplace=True)"
   ]
  },
  {
   "cell_type": "code",
   "execution_count": 228,
   "metadata": {
    "collapsed": true
   },
   "outputs": [],
   "source": [
    "# X_new_test_data.drop(['GarageYrBlt', 'LotFrontage', 'MasVnrArea', 'Id'], axis=1, inplace=True)"
   ]
  },
  {
   "cell_type": "markdown",
   "metadata": {},
   "source": [
    "# Checking the Shape of the Datasets"
   ]
  },
  {
   "cell_type": "code",
   "execution_count": 229,
   "metadata": {},
   "outputs": [
    {
     "name": "stdout",
     "output_type": "stream",
     "text": [
      "(1639, 274)\n",
      "(1639,)\n",
      "(879, 274)\n"
     ]
    }
   ],
   "source": [
    "print (X_new_training_data.shape)\n",
    "print (y_new_training_data.shape)\n",
    "print (X_new_test_data.shape)"
   ]
  },
  {
   "cell_type": "markdown",
   "metadata": {},
   "source": [
    "# Setting up the Median Imputer"
   ]
  },
  {
   "cell_type": "code",
   "execution_count": 230,
   "metadata": {
    "collapsed": true
   },
   "outputs": [],
   "source": [
    "median_imputer = Imputer(strategy='median')"
   ]
  },
  {
   "cell_type": "markdown",
   "metadata": {},
   "source": [
    "# Retrieving Count of Null Numeric Columns in the Training Set"
   ]
  },
  {
   "cell_type": "code",
   "execution_count": 231,
   "metadata": {},
   "outputs": [
    {
     "name": "stdout",
     "output_type": "stream",
     "text": [
      "Total Number of Null Numeric Columns that needs to be addressed:  8\n",
      "\n",
      "Here is the list: \n"
     ]
    },
    {
     "data": {
      "text/plain": [
       "Index(['BsmtFinSF1', 'BsmtFinSF2', 'BsmtFullBath', 'BsmtUnfSF', 'GarageYrBlt',\n",
       "       'LotFrontage', 'MasVnrArea', 'TotalBsmtSF'],\n",
       "      dtype='object')"
      ]
     },
     "execution_count": 231,
     "metadata": {},
     "output_type": "execute_result"
    }
   ],
   "source": [
    "'''Numeric Columns in the Training set that needs to be addressed. In other words, we are going to apply the median imputer on all the numerical columns in the training set'''\n",
    "\n",
    "print ('Total Number of Null Numeric Columns that needs to be addressed: ', len(X_new_training_data.columns[X_new_training_data.isnull().sum()>0]))\n",
    "\n",
    "print ('\\nHere is the list: ')\n",
    "\n",
    "X_new_training_data.columns[X_new_training_data.isnull().sum()>0]\n"
   ]
  },
  {
   "cell_type": "markdown",
   "metadata": {},
   "source": [
    "# Getting a sense of numerical columns in the training set"
   ]
  },
  {
   "cell_type": "code",
   "execution_count": 232,
   "metadata": {},
   "outputs": [
    {
     "name": "stdout",
     "output_type": "stream",
     "text": [
      "['1stFlrSF', '2ndFlrSF', '3SsnPorch', 'BedroomAbvGr', 'BsmtFinSF1', 'BsmtFinSF2', 'BsmtFullBath', 'BsmtUnfSF', 'Fireplaces', 'FullBath', 'GarageArea', 'GarageCars', 'GarageYrBlt', 'GrLivArea', 'HalfBath', 'LotArea', 'LotFrontage', 'MasVnrArea', 'OpenPorchSF', 'OverallQual', 'PoolArea', 'ScreenPorch', 'TotRmsAbvGrd', 'TotalBsmtSF', 'WoodDeckSF', 'YearBuilt', 'YearRemod/Add']\n"
     ]
    }
   ],
   "source": [
    "numeric_col_list_dummies=[]\n",
    "for k,v in enumerate(X_new_training_data.dtypes):\n",
    "    if v == 'int64' or v == 'float64' : \n",
    "        numeric_col_list_dummies.append(X_new_training_data.columns[k])\n",
    "\n",
    "    else: \n",
    "        continue\n",
    "print (numeric_col_list_dummies)"
   ]
  },
  {
   "cell_type": "code",
   "execution_count": 233,
   "metadata": {
    "collapsed": true
   },
   "outputs": [],
   "source": [
    "# '''Imputing all the numeric colums in X_Train'''\n",
    "# for cols in numeric_col_list_dummies:\n",
    "#     X_new_training_data[cols] = median_imputer.fit_transform(X_new_training_data[[cols]])"
   ]
  },
  {
   "cell_type": "markdown",
   "metadata": {},
   "source": [
    "# Imputing the Null Columns with the Median Values using the Imputer"
   ]
  },
  {
   "cell_type": "code",
   "execution_count": 234,
   "metadata": {
    "collapsed": true
   },
   "outputs": [],
   "source": [
    "BsmtFinSF1_fit = median_imputer.fit(X_new_training_data[['BsmtFinSF1']])\n",
    "X_new_training_data['BsmtFinSF1'] = BsmtFinSF1_fit.transform(X_new_training_data[['BsmtFinSF1']])\n",
    "\n",
    "BsmtFinSF2_fit = median_imputer.fit(X_new_training_data[['BsmtFinSF2']])\n",
    "X_new_training_data['BsmtFinSF2'] = BsmtFinSF2_fit.transform(X_new_training_data[['BsmtFinSF2']])\n",
    "\n",
    "BsmtFullBath_fit = median_imputer.fit(X_new_training_data[['BsmtFullBath']])\n",
    "X_new_training_data['BsmtFullBath'] = BsmtFullBath_fit.transform(X_new_training_data[['BsmtFullBath']])\n",
    "\n",
    "# BsmtHalfBath_fit = median_imputer.fit(X_new_training_data[['BsmtHalfBath']])\n",
    "# X_new_training_data['BsmtHalfBath'] = BsmtHalfBath_fit.transform(X_new_training_data[['BsmtHalfBath']])\n",
    "\n",
    "BsmtUnfSF_fit = median_imputer.fit(X_new_training_data[['BsmtUnfSF']])\n",
    "X_new_training_data['BsmtUnfSF'] = BsmtUnfSF_fit.transform(X_new_training_data[['BsmtUnfSF']])\n",
    "\n",
    "GarageArea_fit = median_imputer.fit(X_new_training_data[['GarageArea']])\n",
    "X_new_training_data['GarageArea'] = GarageArea_fit.transform(X_new_training_data[['GarageArea']])\n",
    "\n",
    "GarageCars_fit = median_imputer.fit(X_new_training_data[['GarageCars']])\n",
    "X_new_training_data['GarageCars'] = GarageCars_fit.transform(X_new_training_data[['GarageCars']])\n",
    "\n",
    "GarageYrBlt_fit = median_imputer.fit(X_new_training_data[['GarageYrBlt']])\n",
    "X_new_training_data['GarageYrBlt'] = GarageYrBlt_fit.transform(X_new_training_data[['GarageYrBlt']])\n",
    "\n",
    "LotFrontage_fit = median_imputer.fit(X_new_training_data[['LotFrontage']])\n",
    "X_new_training_data['LotFrontage'] = LotFrontage_fit.transform(X_new_training_data[['LotFrontage']])\n",
    "\n",
    "MasVnrArea_fit = median_imputer.fit(X_new_training_data[['MasVnrArea']])\n",
    "X_new_training_data['MasVnrArea'] = MasVnrArea_fit.transform(X_new_training_data[['MasVnrArea']])\n",
    "\n",
    "TotalBsmtSF_fit = median_imputer.fit(X_new_training_data[['TotalBsmtSF']])\n",
    "X_new_training_data['TotalBsmtSF'] = TotalBsmtSF_fit.transform(X_new_training_data[['TotalBsmtSF']])\n"
   ]
  },
  {
   "cell_type": "markdown",
   "metadata": {},
   "source": [
    "**The above imputation should probably be carried out in a loop**"
   ]
  },
  {
   "cell_type": "code",
   "execution_count": 235,
   "metadata": {},
   "outputs": [
    {
     "data": {
      "text/plain": [
       "Index([], dtype='object')"
      ]
     },
     "execution_count": 235,
     "metadata": {},
     "output_type": "execute_result"
    }
   ],
   "source": [
    "'''Validating to see if there are any null values in the predictors within the training set'''\n",
    "\n",
    "X_new_training_data.columns[X_new_training_data.isnull().sum()>0]"
   ]
  },
  {
   "cell_type": "code",
   "execution_count": 236,
   "metadata": {},
   "outputs": [
    {
     "data": {
      "text/plain": [
       "0"
      ]
     },
     "execution_count": 236,
     "metadata": {},
     "output_type": "execute_result"
    }
   ],
   "source": [
    "'''Validating to see if there are any null values in the Target Variables within the training set'''\n",
    "\n",
    "y_new_training_data.isnull().sum()"
   ]
  },
  {
   "cell_type": "markdown",
   "metadata": {},
   "source": [
    "As expected the predictors and the targets in the dataset dont have any null values "
   ]
  },
  {
   "cell_type": "markdown",
   "metadata": {},
   "source": [
    "# Model Building and Evaluation"
   ]
  },
  {
   "cell_type": "markdown",
   "metadata": {},
   "source": [
    "# Basic  Logistic Regression"
   ]
  },
  {
   "cell_type": "code",
   "execution_count": 237,
   "metadata": {},
   "outputs": [],
   "source": [
    "'''Logistic Regression '''\n",
    "\n",
    "lr = LogisticRegression()"
   ]
  },
  {
   "cell_type": "code",
   "execution_count": 238,
   "metadata": {},
   "outputs": [
    {
     "data": {
      "text/plain": [
       "LogisticRegression(C=1.0, class_weight=None, dual=False, fit_intercept=True,\n",
       "          intercept_scaling=1, max_iter=100, multi_class='ovr', n_jobs=1,\n",
       "          penalty='l2', random_state=None, solver='liblinear', tol=0.0001,\n",
       "          verbose=0, warm_start=False)"
      ]
     },
     "execution_count": 238,
     "metadata": {},
     "output_type": "execute_result"
    }
   ],
   "source": [
    "'''Fitting the Model on the Training Set'''\n",
    "\n",
    "lr.fit(X_new_training_data, y_new_training_data)"
   ]
  },
  {
   "cell_type": "code",
   "execution_count": 239,
   "metadata": {},
   "outputs": [
    {
     "data": {
      "text/plain": [
       "0.9487492373398414"
      ]
     },
     "execution_count": 239,
     "metadata": {},
     "output_type": "execute_result"
    }
   ],
   "source": [
    "'''Scoring the Model on the Training Set'''\n",
    "\n",
    "lr.score(X_new_training_data, y_new_training_data)"
   ]
  },
  {
   "cell_type": "code",
   "execution_count": 240,
   "metadata": {},
   "outputs": [
    {
     "data": {
      "text/plain": [
       "array([0, 0, 0, 0, 0])"
      ]
     },
     "execution_count": 240,
     "metadata": {},
     "output_type": "execute_result"
    }
   ],
   "source": [
    "'''Predicting the Training Values '''\n",
    "\n",
    "y_train_predicted = lr.predict(X_new_training_data)\n",
    "y_train_predicted[0:5]"
   ]
  },
  {
   "cell_type": "markdown",
   "metadata": {},
   "source": [
    "# Applying the model on to Test Set "
   ]
  },
  {
   "cell_type": "markdown",
   "metadata": {},
   "source": [
    "#### Checking the list of null columns in the Test Set that will require imputation"
   ]
  },
  {
   "cell_type": "code",
   "execution_count": 241,
   "metadata": {},
   "outputs": [
    {
     "data": {
      "text/plain": [
       "Index(['GarageYrBlt', 'LotFrontage', 'MasVnrArea'], dtype='object')"
      ]
     },
     "execution_count": 241,
     "metadata": {},
     "output_type": "execute_result"
    }
   ],
   "source": [
    "X_new_test_data.columns[X_new_test_data.isnull().sum()>0]"
   ]
  },
  {
   "cell_type": "markdown",
   "metadata": {},
   "source": [
    "The columns *'GarageYrBlt', 'LotFrontage', 'MasVnrArea'* needs imputation from the training model"
   ]
  },
  {
   "cell_type": "code",
   "execution_count": 242,
   "metadata": {
    "collapsed": true
   },
   "outputs": [],
   "source": [
    "X_new_test_data['GarageYrBlt'] = GarageYrBlt_fit.transform(X_new_test_data[['GarageYrBlt']])\n",
    "\n",
    "X_new_test_data['LotFrontage'] = LotFrontage_fit.transform(X_new_test_data[['LotFrontage']])\n",
    "\n",
    "X_new_test_data['MasVnrArea'] = MasVnrArea_fit.transform(X_new_test_data[['MasVnrArea']])"
   ]
  },
  {
   "cell_type": "code",
   "execution_count": 243,
   "metadata": {},
   "outputs": [
    {
     "data": {
      "text/plain": [
       "Index([], dtype='object')"
      ]
     },
     "execution_count": 243,
     "metadata": {},
     "output_type": "execute_result"
    }
   ],
   "source": [
    "'''Performing validation to see if there are any more null values'''\n",
    "X_new_test_data.columns[X_new_test_data.isnull().sum()>0]"
   ]
  },
  {
   "cell_type": "markdown",
   "metadata": {},
   "source": [
    "As expected after the imputation there are no more null values"
   ]
  },
  {
   "cell_type": "markdown",
   "metadata": {},
   "source": [
    "# Predicting the value of the Target Variable on the Test Set"
   ]
  },
  {
   "cell_type": "code",
   "execution_count": 244,
   "metadata": {},
   "outputs": [
    {
     "data": {
      "text/plain": [
       "array([0, 0, 0, 0, 0])"
      ]
     },
     "execution_count": 244,
     "metadata": {},
     "output_type": "execute_result"
    }
   ],
   "source": [
    "y_predicted = lr.predict(X_new_test_data)\n",
    "y_predicted[0:5]"
   ]
  },
  {
   "cell_type": "code",
   "execution_count": 278,
   "metadata": {
    "collapsed": true
   },
   "outputs": [],
   "source": [
    "y_train_predicted = lr.predict(X_new_training_data)"
   ]
  },
  {
   "cell_type": "code",
   "execution_count": 245,
   "metadata": {},
   "outputs": [
    {
     "data": {
      "text/plain": [
       "array([0, 0, 0, 0, 0])"
      ]
     },
     "execution_count": 245,
     "metadata": {},
     "output_type": "execute_result"
    }
   ],
   "source": [
    "'''Reviewing the first five values of the Predicted set'''\n",
    "y_predicted[0:5]"
   ]
  },
  {
   "cell_type": "code",
   "execution_count": 249,
   "metadata": {},
   "outputs": [
    {
     "name": "stdout",
     "output_type": "stream",
     "text": [
      "<class 'pandas.core.frame.DataFrame'>\n",
      "RangeIndex: 879 entries, 0 to 878\n",
      "Data columns (total 2 columns):\n",
      "Id                879 non-null int64\n",
      "Sale Condition    879 non-null int64\n",
      "dtypes: int64(2)\n",
      "memory usage: 13.8 KB\n"
     ]
    }
   ],
   "source": [
    "'''Creating a Dataframe of the predicted values. This will be used to create the CSV file'''\n",
    "\n",
    "d = {'Id': test_raw['Id'], 'Sale Condition': y_predicted}\n",
    "predicted_df= pd.DataFrame(d)\n",
    "predicted_df.info()"
   ]
  },
  {
   "cell_type": "markdown",
   "metadata": {},
   "source": [
    "## CSV File Creation with the Basic Model"
   ]
  },
  {
   "cell_type": "code",
   "execution_count": 250,
   "metadata": {
    "collapsed": true
   },
   "outputs": [],
   "source": [
    "predicted_df.to_csv('ac_basic_predictions_classification.csv', index=False)"
   ]
  },
  {
   "cell_type": "markdown",
   "metadata": {},
   "source": [
    "Since we had good model performance using the GradientBoost approach with the regression challenge. We are going to use the GradientBoostClassifier for this classification challenge"
   ]
  },
  {
   "cell_type": "code",
   "execution_count": 279,
   "metadata": {},
   "outputs": [
    {
     "data": {
      "text/plain": [
       "array([[1525,    5],\n",
       "       [  79,   30]])"
      ]
     },
     "execution_count": 279,
     "metadata": {},
     "output_type": "execute_result"
    }
   ],
   "source": [
    "'''Model Performance - Confusion Matrix'''\n",
    "from sklearn.metrics import confusion_matrix\n",
    "cm = confusion_matrix(y_new_training_data, y_train_predicted)\n",
    "cm"
   ]
  },
  {
   "cell_type": "markdown",
   "metadata": {},
   "source": [
    "The model peformance is good"
   ]
  },
  {
   "cell_type": "code",
   "execution_count": 280,
   "metadata": {},
   "outputs": [
    {
     "name": "stdout",
     "output_type": "stream",
     "text": [
      "0.94874923734\n"
     ]
    }
   ],
   "source": [
    "'''Validating the Score with the Model Score'''\n",
    "from sklearn import metrics\n",
    "print (metrics.accuracy_score(y_train_predicted, y_new_training_data))"
   ]
  },
  {
   "cell_type": "markdown",
   "metadata": {},
   "source": [
    "# Gradient Boost"
   ]
  },
  {
   "cell_type": "code",
   "execution_count": 254,
   "metadata": {},
   "outputs": [
    {
     "name": "stdout",
     "output_type": "stream",
     "text": [
      "best score 0.935326418548\n",
      "best params {'max_depth': 5, 'max_features': 8}\n",
      "test score 0.978035387431\n"
     ]
    }
   ],
   "source": [
    "\n",
    "gb = GradientBoostingClassifier()\n",
    "gb_params = {\n",
    "#     'n_estimators': [11000],\n",
    "    'max_depth': [2,3,4,5,6,7,8,9,10],\n",
    "    'max_features': [4,6,8,10,100,'sqrt']\n",
    "}\n",
    "gb_model = GridSearchCV(gb, param_grid=gb_params)\n",
    "gb_model.fit(X_new_training_data, y_new_training_data)\n",
    "print('best score', gb_model.best_score_)\n",
    "print('best params', gb_model.best_params_)\n",
    "print('test score', gb_model.score(X_new_training_data, y_new_training_data))"
   ]
  },
  {
   "cell_type": "code",
   "execution_count": 271,
   "metadata": {
    "collapsed": true
   },
   "outputs": [],
   "source": [
    "GBest = GradientBoostingClassifier(n_estimators=3000, learning_rate=0.1, max_depth=6, max_features=30,\n",
    "                                               min_samples_leaf=8, min_samples_split=6, loss='deviance')\n"
   ]
  },
  {
   "cell_type": "code",
   "execution_count": 272,
   "metadata": {},
   "outputs": [
    {
     "data": {
      "text/plain": [
       "GradientBoostingClassifier(criterion='friedman_mse', init=None,\n",
       "              learning_rate=0.1, loss='deviance', max_depth=6,\n",
       "              max_features=30, max_leaf_nodes=None,\n",
       "              min_impurity_split=1e-07, min_samples_leaf=8,\n",
       "              min_samples_split=6, min_weight_fraction_leaf=0.0,\n",
       "              n_estimators=3000, presort='auto', random_state=None,\n",
       "              subsample=1.0, verbose=0, warm_start=False)"
      ]
     },
     "execution_count": 272,
     "metadata": {},
     "output_type": "execute_result"
    }
   ],
   "source": [
    "GBest.fit(X_new_training_data, y_new_training_data)"
   ]
  },
  {
   "cell_type": "code",
   "execution_count": 273,
   "metadata": {},
   "outputs": [
    {
     "data": {
      "text/plain": [
       "1.0"
      ]
     },
     "execution_count": 273,
     "metadata": {},
     "output_type": "execute_result"
    }
   ],
   "source": [
    "GBest.score(X_new_training_data, y_new_training_data)"
   ]
  },
  {
   "cell_type": "code",
   "execution_count": 274,
   "metadata": {},
   "outputs": [
    {
     "name": "stdout",
     "output_type": "stream",
     "text": [
      "<class 'pandas.core.frame.DataFrame'>\n",
      "RangeIndex: 879 entries, 0 to 878\n",
      "Data columns (total 2 columns):\n",
      "Id                879 non-null int64\n",
      "Sale Condition    879 non-null int64\n",
      "dtypes: int64(2)\n",
      "memory usage: 13.8 KB\n"
     ]
    }
   ],
   "source": [
    "y_gb_train_predict = GBest.predict(X_new_training_data)\n",
    "y_gb_test_predict = GBest.predict(X_new_test_data)\n",
    "\n",
    "d = {'Id': test_raw['Id'], 'Sale Condition': y_gb_test_predict}\n",
    "predicted_df= pd.DataFrame(d)\n",
    "predicted_df.info()\n",
    "\n",
    "predicted_df.to_csv('ac_gb__classification_predictions.csv', index=False)"
   ]
  },
  {
   "cell_type": "code",
   "execution_count": 275,
   "metadata": {},
   "outputs": [
    {
     "data": {
      "text/plain": [
       "array([[1530,    0],\n",
       "       [   0,  109]])"
      ]
     },
     "execution_count": 275,
     "metadata": {},
     "output_type": "execute_result"
    }
   ],
   "source": [
    "'''Model Performance - Confusion Matrix'''\n",
    "from sklearn.metrics import confusion_matrix\n",
    "cm = confusion_matrix(y_new_training_data, y_gb_train_predict)\n",
    "cm"
   ]
  },
  {
   "cell_type": "markdown",
   "metadata": {},
   "source": [
    "The model seems to be overfitting"
   ]
  },
  {
   "cell_type": "code",
   "execution_count": 276,
   "metadata": {},
   "outputs": [
    {
     "name": "stdout",
     "output_type": "stream",
     "text": [
      "1.0\n"
     ]
    }
   ],
   "source": [
    "'''Validating the Score with the Model Score'''\n",
    "from sklearn import metrics\n",
    "print (metrics.accuracy_score(y_gb_train_predict, y_new_training_data))"
   ]
  },
  {
   "cell_type": "code",
   "execution_count": null,
   "metadata": {
    "collapsed": true
   },
   "outputs": [],
   "source": []
  }
 ],
 "metadata": {
  "kernelspec": {
   "display_name": "Python 3",
   "language": "python",
   "name": "python3"
  },
  "language_info": {
   "codemirror_mode": {
    "name": "ipython",
    "version": 3
   },
   "file_extension": ".py",
   "mimetype": "text/x-python",
   "name": "python",
   "nbconvert_exporter": "python",
   "pygments_lexer": "ipython3",
   "version": "3.6.1"
  }
 },
 "nbformat": 4,
 "nbformat_minor": 2
}
